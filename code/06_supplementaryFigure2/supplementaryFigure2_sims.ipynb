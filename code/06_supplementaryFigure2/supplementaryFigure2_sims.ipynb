{
 "cells": [
  {
   "cell_type": "markdown",
   "id": "66af9cb7-f350-49f4-a5e0-133f4b9daf17",
   "metadata": {},
   "source": [
    "## Simulation 2: We investigate the behaviour of $C_{X \\rightarrow Y}$ for different bivariate structures."
   ]
  },
  {
   "cell_type": "code",
   "execution_count": 1,
   "id": "0d00b4ff-f0a6-4374-a138-92c0a37df2bf",
   "metadata": {},
   "outputs": [],
   "source": [
    "import warnings\n",
    "warnings.filterwarnings(\"ignore\")\n",
    "\n",
    "import numpy as np\n",
    "import scipy.stats as st\n",
    "import scipy.special as sp\n",
    "import random\n",
    "import openturns as ot\n",
    "\n",
    "from fastkde import fastKDE"
   ]
  },
  {
   "cell_type": "code",
   "execution_count": 2,
   "id": "252c3bb2-8c5f-4912-b61b-91d36d195d9a",
   "metadata": {},
   "outputs": [],
   "source": [
    "def estimator(x, alpha = 0.05):\n",
    "    \n",
    "    if(x.shape[0]%2!=0):\n",
    "        x = x[:-1]\n",
    "    \n",
    "    estim, inf = np.split(x, 2) #split data up into two halves\n",
    "    \n",
    "    ## first split used for density estimation\n",
    "    margin_x = fastKDE.pdf_at_points(var1 = estim[:,0], list_of_points = list(inf[:,0]))\n",
    "    margin_y = fastKDE.pdf_at_points(var1 = estim[:,1], list_of_points = list(inf[:,1]))\n",
    "    select = np.logical_and(margin_x > 0, margin_y > 0)\n",
    "    margin_y = margin_y[select]\n",
    "    margin_x = margin_x[select]\n",
    "    \n",
    "    h_x1 = -np.mean(np.log(margin_x))\n",
    "    h_y1 = -np.mean(np.log(margin_y))\n",
    "    \n",
    "    ## second split used for density estimation\n",
    "    margin_x = fastKDE.pdf_at_points(var1 = inf[:,0], list_of_points = list(estim[:,0]))\n",
    "    margin_y = fastKDE.pdf_at_points(var1 = inf[:,1], list_of_points = list(estim[:,1]))\n",
    "    select = np.logical_and(margin_x > 0, margin_y > 0)\n",
    "    margin_y = margin_y[select]\n",
    "    margin_x = margin_x[select]\n",
    "    \n",
    "    h_x2 = -np.mean(np.log(margin_x))\n",
    "    h_y2 = -np.mean(np.log(margin_y))\n",
    "    \n",
    "    ## cross fitting\n",
    "    h_x = (h_x1 + h_x2)/2\n",
    "    h_y = (h_y1 + h_y2)/2\n",
    "    delta = (h_x - h_y)\n",
    "    \n",
    "    ## variance estimation using monte carlo\n",
    "    margin_x = fastKDE.pdf_at_points(var1 = x[:,0])\n",
    "    margin_y = fastKDE.pdf_at_points(var1 = x[:,1])\n",
    "    select = np.logical_and(margin_x > 0, margin_y > 0)\n",
    "    margin_y = margin_y[select]\n",
    "    margin_x = margin_x[select]\n",
    "    \n",
    "    covar = np.cov(np.log(margin_x), np.log(margin_y))\n",
    "    \n",
    "    delta_var = covar[0,0] + covar[1,1] - 2*covar[0,1]\n",
    "    delta_sd = np.sqrt(delta_var)\n",
    "    \n",
    "    delta_lcb = delta - st.norm.ppf(1 - alpha/2)*delta_sd/np.sqrt(len(select)/2)\n",
    "    delta_ucb = delta + st.norm.ppf(1 - alpha/2)*delta_sd/np.sqrt(len(select)/2)\n",
    "    \n",
    "    return ([h_x, h_y, delta_lcb, delta, delta_ucb])"
   ]
  },
  {
   "cell_type": "markdown",
   "id": "dec7b551-6978-4d5a-a365-8eceb93f6be8",
   "metadata": {},
   "source": [
    "## simulation 1A: normal vs normal"
   ]
  },
  {
   "cell_type": "code",
   "execution_count": 3,
   "id": "239316ee-e44a-48ec-af0c-d4069853ba2f",
   "metadata": {},
   "outputs": [],
   "source": [
    "def data_gen_1a(n, sx, sy):\n",
    "    R = ot.CorrelationMatrix(2)\n",
    "    R[0, 1] = 0.25\n",
    "    R[1, 0] = 0.25\n",
    "    copula = ot.NormalCopula(R)\n",
    "    x = ot.Normal(0, sx)\n",
    "    y = ot.Normal(0, sy)\n",
    "    dist = ot.ComposedDistribution([x, y], copula)\n",
    "    data = dist.getSample(n)\n",
    "    x = data[:,0]\n",
    "    y = data[:,1]\n",
    "    return(np.column_stack((x, y)))"
   ]
  },
  {
   "cell_type": "code",
   "execution_count": 4,
   "id": "ca9b6a2c-aae0-408f-affd-cc1108392152",
   "metadata": {},
   "outputs": [
    {
     "name": "stderr",
     "output_type": "stream",
     "text": [
      "TBB Warning: The number of workers is currently limited to 3. The request for 35 workers is ignored. Further requests for more workers will be silently ignored until the limit changes.\n",
      "\n"
     ]
    }
   ],
   "source": [
    "param = np.array([(x, y) for x in range(1, 6, 1) for y in range(1, 6, 1)])\n",
    "output_final = np.empty([param.shape[0], 5])\n",
    "for k in range(param.shape[0]):\n",
    "    niter = 200\n",
    "    op = np.zeros(niter)\n",
    "    for i in range(niter):\n",
    "        op[i] = estimator(data_gen_1a(n = 500, sx = float(param[k,0]), sy = float(param[k, 1])))[3]\n",
    "    output_final[k,:] = [param[k,0], param[k,1], np.mean(op), np.quantile(op, 0.025), np.quantile(op, 0.975)]\n",
    "np.savetxt('/home/soumikp/2023_bka/output/sim3_nor_nor.csv', output_final, delimiter = \",\")"
   ]
  },
  {
   "cell_type": "markdown",
   "id": "b193cf62-e940-471c-9f00-a83888d5e9d2",
   "metadata": {},
   "source": [
    "## case 1B: normal vs exponential"
   ]
  },
  {
   "cell_type": "code",
   "execution_count": 5,
   "id": "4f383d79-c317-4cb5-98a0-cd61e71c2fea",
   "metadata": {},
   "outputs": [],
   "source": [
    "def data_gen_1b(n, sx, sy):\n",
    "    R = ot.CorrelationMatrix(2)\n",
    "    R[0, 1] = 0.25\n",
    "    R[1, 0] = 0.25\n",
    "    copula = ot.NormalCopula(R)\n",
    "    x = ot.Normal(0, sx)\n",
    "    y = ot.Exponential(sy, 0) ## with mean = 1/sy\n",
    "    dist = ot.ComposedDistribution([x, y], copula)\n",
    "    data = dist.getSample(n)\n",
    "    x = data[:,0]\n",
    "    y = data[:,1]\n",
    "    return(np.column_stack((x, y)))"
   ]
  },
  {
   "cell_type": "code",
   "execution_count": 6,
   "id": "9ad4e689-0e2c-492f-8fa6-02c298affc08",
   "metadata": {},
   "outputs": [],
   "source": [
    "param = np.array([(x, y) for x in range(1, 6, 1) for y in np.linspace(0.1, 0.70, num = 5)])\n",
    "output_final = np.empty([param.shape[0], 5])\n",
    "for k in range(param.shape[0]):\n",
    "    niter = 200\n",
    "    op = np.zeros(niter)\n",
    "    for i in range(niter):\n",
    "        op[i] = estimator(data_gen_1b(n = 500, sx = float(param[k,0]), sy = float(param[k, 1])))[3]\n",
    "    output_final[k,:] = [param[k,0], param[k,1], np.mean(op), np.quantile(op, 0.025), np.quantile(op, 0.975)]\n",
    "np.savetxt('/home/soumikp/2023_bka/output/sim3_nor_exp.csv', output_final, delimiter = \",\")"
   ]
  },
  {
   "cell_type": "markdown",
   "id": "7c81e5c9-5437-49c2-9b28-d16464aea55e",
   "metadata": {},
   "source": [
    "## case 1C: normal vs lognormal"
   ]
  },
  {
   "cell_type": "code",
   "execution_count": 7,
   "id": "37589e65-e5ae-4b0e-a324-2c7236537aec",
   "metadata": {},
   "outputs": [],
   "source": [
    "def data_gen_1c(n, sx, sy):\n",
    "    R = ot.CorrelationMatrix(2)\n",
    "    R[0, 1] = 0.25\n",
    "    R[1, 0] = 0.25\n",
    "    copula = ot.NormalCopula(R)\n",
    "    x = ot.Normal(0, sx)\n",
    "    y = ot.LogNormal(0, sy, 0) ## with mean = 1/sy\n",
    "    dist = ot.ComposedDistribution([x, y], copula)\n",
    "    data = dist.getSample(n)\n",
    "    x = data[:,0]\n",
    "    y = data[:,1]\n",
    "    return(np.column_stack((x, y)))"
   ]
  },
  {
   "cell_type": "code",
   "execution_count": 8,
   "id": "e1f40dc1-57b7-46c2-a512-0bc4c267f4f4",
   "metadata": {},
   "outputs": [],
   "source": [
    "param = np.array([(x, y) for x in range(1, 6, 1) for y in np.linspace(1, 2.5, num = 5)])\n",
    "output_final = np.empty([param.shape[0], 5])\n",
    "for k in range(param.shape[0]):\n",
    "    niter = 200\n",
    "    op = np.zeros(niter)\n",
    "    for i in range(niter):\n",
    "        op[i] = estimator(data_gen_1c(n = 500, sx = float(param[k,0]), sy = float(param[k, 1])))[3]\n",
    "    output_final[k,:] = [param[k,0], param[k,1], np.mean(op), np.quantile(op, 0.025), np.quantile(op, 0.975)]\n",
    "np.savetxt('/home/soumikp/2023_bka/output/sim3_nor_log.csv', output_final, delimiter = \",\")"
   ]
  },
  {
   "cell_type": "markdown",
   "id": "a9b00794-b9fd-482c-ac52-75431f16cc2b",
   "metadata": {},
   "source": [
    "## case 1D: Exponential vs Lognormal"
   ]
  },
  {
   "cell_type": "code",
   "execution_count": 9,
   "id": "96dcdb08-edbf-47b1-acda-04fb9f6c620e",
   "metadata": {},
   "outputs": [],
   "source": [
    "def data_gen_1d(n, sx, sy):\n",
    "    R = ot.CorrelationMatrix(2)\n",
    "    R[0, 1] = 0.25\n",
    "    R[1, 0] = 0.25\n",
    "    copula = ot.NormalCopula(R)\n",
    "    x = ot.Exponential(sx, 0)\n",
    "    y = ot.LogNormal(0, sy, 0) ## with mean = 1/sy\n",
    "    dist = ot.ComposedDistribution([x, y], copula)\n",
    "    data = dist.getSample(n)\n",
    "    x = data[:,0]\n",
    "    y = data[:,1]\n",
    "    return(np.column_stack((x, y)))"
   ]
  },
  {
   "cell_type": "code",
   "execution_count": 10,
   "id": "c650e07c-e4a5-45aa-bc6b-4ea5a8ddfd32",
   "metadata": {},
   "outputs": [],
   "source": [
    "param = np.array([(x, y) for x in np.linspace(0.3, 0.70, num = 5) for y in np.linspace(1, 2.5, num = 5)])\n",
    "output_final = np.empty([param.shape[0], 5])\n",
    "for k in range(param.shape[0]):\n",
    "    niter = 200\n",
    "    op = np.zeros(niter)\n",
    "    for i in range(niter):\n",
    "        op[i] = estimator(data_gen_1d(n = 500, sx = float(param[k,0]), sy = float(param[k, 1])))[3]\n",
    "    output_final[k,:] = [param[k,0], param[k,1], np.mean(op), np.quantile(op, 0.025), np.quantile(op, 0.975)]\n",
    "np.savetxt('/home/soumikp/2023_bka/output/sim3_exp_log.csv', output_final, delimiter = \",\")"
   ]
  }
 ],
 "metadata": {
  "kernelspec": {
   "display_name": "Python 3 (ipykernel)",
   "language": "python",
   "name": "python3"
  },
  "language_info": {
   "codemirror_mode": {
    "name": "ipython",
    "version": 3
   },
   "file_extension": ".py",
   "mimetype": "text/x-python",
   "name": "python",
   "nbconvert_exporter": "python",
   "pygments_lexer": "ipython3",
   "version": "3.9.7"
  }
 },
 "nbformat": 4,
 "nbformat_minor": 5
}
