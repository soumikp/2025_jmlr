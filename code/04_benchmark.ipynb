{
 "cells": [
  {
   "cell_type": "markdown",
   "id": "60fb9643-0b9a-468c-a9b6-f92a73993206",
   "metadata": {},
   "source": [
    "# Tuebingen cause-effect pairs dataset"
   ]
  },
  {
   "cell_type": "code",
   "execution_count": 1,
   "id": "d397365a-1b18-470f-85e2-3134e0aad175",
   "metadata": {
    "tags": []
   },
   "outputs": [],
   "source": [
    "import warnings\n",
    "warnings.filterwarnings(\"ignore\")\n",
    "\n",
    "import numpy as np\n",
    "import scipy.stats as st\n",
    "import scipy.special as sp\n",
    "import random\n",
    "from sklearn.metrics import confusion_matrix\n",
    "\n",
    "from fastkde import fastKDE"
   ]
  },
  {
   "cell_type": "code",
   "execution_count": 2,
   "id": "f8a5a693-5dc2-4a35-9181-2bbf28776bd8",
   "metadata": {
    "tags": []
   },
   "outputs": [],
   "source": [
    "def estimator(x, alpha = 0.05):\n",
    "    \n",
    "    if(x.shape[0]%2!=0):\n",
    "        x = x[:-1]\n",
    "    \n",
    "    estim, inf = np.split(x, 2) #split data up into two halves\n",
    "    \n",
    "    ## first split used for density estimation\n",
    "    margin_x = fastKDE.pdf_at_points(var1 = estim[:,0], list_of_points = list(inf[:,0]))\n",
    "    margin_y = fastKDE.pdf_at_points(var1 = estim[:,1], list_of_points = list(inf[:,1]))\n",
    "    select = np.logical_and(margin_x > 0, margin_y > 0)\n",
    "    margin_y = margin_y[select]\n",
    "    margin_x = margin_x[select]\n",
    "    \n",
    "    h_x1 = -np.mean(np.log(margin_x))\n",
    "    h_y1 = -np.mean(np.log(margin_y))\n",
    "    \n",
    "    ## second split used for density estimation\n",
    "    margin_x = fastKDE.pdf_at_points(var1 = inf[:,0], list_of_points = list(estim[:,0]))\n",
    "    margin_y = fastKDE.pdf_at_points(var1 = inf[:,1], list_of_points = list(estim[:,1]))\n",
    "    select = np.logical_and(margin_x > 0, margin_y > 0)\n",
    "    margin_y = margin_y[select]\n",
    "    margin_x = margin_x[select]\n",
    "    \n",
    "    h_x2 = -np.mean(np.log(margin_x))\n",
    "    h_y2 = -np.mean(np.log(margin_y))\n",
    "    \n",
    "    ## cross fitting\n",
    "    h_x = (h_x1 + h_x2)/2\n",
    "    h_y = (h_y1 + h_y2)/2\n",
    "    delta = (h_x - h_y)\n",
    "    \n",
    "    ## variance estimation using monte carlo\n",
    "    margin_x = fastKDE.pdf_at_points(var1 = x[:,0])\n",
    "    margin_y = fastKDE.pdf_at_points(var1 = x[:,1])\n",
    "    select = np.logical_and(margin_x > 0, margin_y > 0)\n",
    "    margin_y = margin_y[select]\n",
    "    margin_x = margin_x[select]\n",
    "    \n",
    "    covar = np.cov(np.log(margin_x), np.log(margin_y))\n",
    "    \n",
    "    delta_var = covar[0,0] + covar[1,1] - 2*covar[0,1]\n",
    "    delta_sd = np.sqrt(delta_var)\n",
    "    \n",
    "    delta_lcb = delta - st.norm.ppf(1 - alpha/2)*delta_sd/np.sqrt(len(select)/2)\n",
    "    delta_ucb = delta + st.norm.ppf(1 - alpha/2)*delta_sd/np.sqrt(len(select)/2)\n",
    "    \n",
    "    if(delta_lcb*delta_ucb < 0):\n",
    "        decision = 0\n",
    "    else:\n",
    "        decision = delta_lcb/np.abs(delta_lcb)\n",
    "    \n",
    "    return ([decision, h_x, h_y, delta_lcb, delta, delta_ucb, delta_sd/np.sqrt(len(select)/2)])"
   ]
  },
  {
   "cell_type": "markdown",
   "id": "af1f4fe4-a954-42df-a36e-d83cd3eba251",
   "metadata": {},
   "source": [
    "## Load data (99 cause-effect pairs). "
   ]
  },
  {
   "cell_type": "code",
   "execution_count": 3,
   "id": "1c88acdb-815b-44bb-a779-cc5a5f921209",
   "metadata": {
    "tags": []
   },
   "outputs": [],
   "source": [
    "from cdt.data import load_dataset\n",
    "data, labels = load_dataset('tuebingen')"
   ]
  },
  {
   "cell_type": "markdown",
   "id": "cb7ab78e-3e6e-4e1a-8b88-7a5d13b410c6",
   "metadata": {},
   "source": [
    "### ANM predictions for CEP"
   ]
  },
  {
   "cell_type": "code",
   "execution_count": 4,
   "id": "cdb45e11-a09d-4a04-a647-f2ddced53034",
   "metadata": {
    "tags": []
   },
   "outputs": [],
   "source": [
    "from cdt.causality.pairwise import ANM\n",
    "anm = ANM()\n",
    "dec_anm = [anm.predict_proba(data.iloc[i]) for i in range(0, 99)]"
   ]
  },
  {
   "cell_type": "code",
   "execution_count": 5,
   "id": "7289051a-ace5-48b9-a75e-b201fdbbfb70",
   "metadata": {
    "tags": []
   },
   "outputs": [
    {
     "data": {
      "text/plain": [
       "[51, 18, 30]"
      ]
     },
     "execution_count": 5,
     "metadata": {},
     "output_type": "execute_result"
    }
   ],
   "source": [
    "[sum(dec_anm/np.abs(dec_anm) == 1), sum(np.isnan(dec_anm/np.abs(dec_anm))), sum(dec_anm/np.abs(dec_anm) == -1)]"
   ]
  },
  {
   "cell_type": "markdown",
   "id": "4dd43429-20f8-422e-b0e1-dd289d787025",
   "metadata": {},
   "source": [
    "### CDS predictions for CEP"
   ]
  },
  {
   "cell_type": "code",
   "execution_count": 6,
   "id": "52068d0d-9e09-4028-b03b-f8b65804644f",
   "metadata": {
    "tags": []
   },
   "outputs": [],
   "source": [
    "from cdt.causality.pairwise import CDS\n",
    "cds = CDS()\n",
    "dec_cds = [cds.predict_proba(data.iloc[i]) for i in range(0, 99)]"
   ]
  },
  {
   "cell_type": "code",
   "execution_count": 7,
   "id": "6a25301d-bd74-4abe-9729-64d1e40a463e",
   "metadata": {
    "tags": []
   },
   "outputs": [
    {
     "data": {
      "text/plain": [
       "[67, 0, 32]"
      ]
     },
     "execution_count": 7,
     "metadata": {},
     "output_type": "execute_result"
    }
   ],
   "source": [
    "[sum(dec_cds/np.abs(dec_cds) == 1), sum(np.isnan(dec_cds/np.abs(dec_cds))), sum(dec_cds/np.abs(dec_cds) == -1)]"
   ]
  },
  {
   "cell_type": "markdown",
   "id": "f95920ab-94de-4124-9823-70b5c9f33a3a",
   "metadata": {},
   "source": [
    "### EL predictions for CEP"
   ]
  },
  {
   "cell_type": "code",
   "execution_count": 8,
   "id": "3e8c0af0-6922-428c-8236-733a19fb54af",
   "metadata": {
    "tags": []
   },
   "outputs": [],
   "source": [
    "def affine(x):\n",
    "    return (x - np.min(x)/(np.max(x) - np.min(x)))\n",
    "\n",
    "dec_el = [estimator(np.column_stack((affine(data.iloc[i]['A']), affine(data.iloc[i]['B']))))[0] for i in range(0, 99)]"
   ]
  },
  {
   "cell_type": "code",
   "execution_count": 9,
   "id": "59854f56-8a6e-48af-bbeb-1abec320bd55",
   "metadata": {
    "tags": []
   },
   "outputs": [
    {
     "data": {
      "text/plain": [
       "[58, 7, 34]"
      ]
     },
     "execution_count": 9,
     "metadata": {},
     "output_type": "execute_result"
    }
   ],
   "source": [
    "[sum(dec_el/np.abs(dec_el) == 1), sum(np.isnan(dec_el/np.abs(dec_el))), sum(dec_el/np.abs(dec_el) == -1)]"
   ]
  },
  {
   "cell_type": "markdown",
   "id": "362ff3c5-7bc8-4fcc-8e6f-db505843e65b",
   "metadata": {},
   "source": [
    "### RECI predictions from CEP"
   ]
  },
  {
   "cell_type": "code",
   "execution_count": 10,
   "id": "bf01a108-6821-4cd1-a3ba-ff6b8108dd5c",
   "metadata": {
    "tags": []
   },
   "outputs": [],
   "source": [
    "from cdt.causality.pairwise import RECI\n",
    "reci = RECI()\n",
    "dec_reci = [reci.predict_proba(data.iloc[i]) for i in range(0, 99)]"
   ]
  },
  {
   "cell_type": "code",
   "execution_count": 11,
   "id": "c59dd5d8-e78c-4a31-9d0e-5d3d97560c06",
   "metadata": {
    "tags": []
   },
   "outputs": [
    {
     "data": {
      "text/plain": [
       "[62, 0, 37]"
      ]
     },
     "execution_count": 11,
     "metadata": {},
     "output_type": "execute_result"
    }
   ],
   "source": [
    "[sum(dec_reci/np.abs(dec_reci) == 1), sum(np.isnan(dec_reci/np.abs(dec_reci))), sum(dec_reci/np.abs(dec_reci) == -1)]"
   ]
  }
 ],
 "metadata": {
  "kernelspec": {
   "display_name": "Python 3 (ipykernel)",
   "language": "python",
   "name": "python3"
  },
  "language_info": {
   "codemirror_mode": {
    "name": "ipython",
    "version": 3
   },
   "file_extension": ".py",
   "mimetype": "text/x-python",
   "name": "python",
   "nbconvert_exporter": "python",
   "pygments_lexer": "ipython3",
   "version": "3.11.5"
  }
 },
 "nbformat": 4,
 "nbformat_minor": 5
}
