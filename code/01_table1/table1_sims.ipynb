{
 "cells": [
  {
   "cell_type": "markdown",
   "id": "3c5dd5a8-11b0-4b84-ae76-b242d0634214",
   "metadata": {},
   "source": [
    "## Simulation 1: Generate $X \\sim f_X$ and obtain $Y = f(X)$, add contaminant $\\epsilon$."
   ]
  },
  {
   "cell_type": "code",
   "execution_count": 1,
   "id": "adb0d8aa-989d-47e9-98a0-e87780bcf296",
   "metadata": {},
   "outputs": [],
   "source": [
    "import warnings\n",
    "warnings.filterwarnings(\"ignore\")\n",
    "\n",
    "import numpy as np\n",
    "import scipy.stats as st\n",
    "import scipy.special as sp\n",
    "import random\n",
    "\n",
    "from fastkde import fastKDE"
   ]
  },
  {
   "cell_type": "code",
   "execution_count": 2,
   "id": "2c8ff17e-9e20-4a75-b89d-b17fa1f025ff",
   "metadata": {},
   "outputs": [],
   "source": [
    "def estimator(x, alpha = 0.05):\n",
    "    \n",
    "    if(x.shape[0]%2!=0):\n",
    "        x = x[:-1]\n",
    "    \n",
    "    estim, inf = np.split(x, 2) #split data up into two halves\n",
    "    \n",
    "    ## first split used for density estimation\n",
    "    margin_x = fastKDE.pdf_at_points(var1 = estim[:,0], list_of_points = list(inf[:,0]))\n",
    "    margin_y = fastKDE.pdf_at_points(var1 = estim[:,1], list_of_points = list(inf[:,1]))\n",
    "    select = np.logical_and(margin_x > 0, margin_y > 0)\n",
    "    margin_y = margin_y[select]\n",
    "    margin_x = margin_x[select]\n",
    "    \n",
    "    h_x1 = -np.mean(np.log(margin_x))\n",
    "    h_y1 = -np.mean(np.log(margin_y))\n",
    "    \n",
    "    ## second split used for density estimation\n",
    "    margin_x = fastKDE.pdf_at_points(var1 = inf[:,0], list_of_points = list(estim[:,0]))\n",
    "    margin_y = fastKDE.pdf_at_points(var1 = inf[:,1], list_of_points = list(estim[:,1]))\n",
    "    select = np.logical_and(margin_x > 0, margin_y > 0)\n",
    "    margin_y = margin_y[select]\n",
    "    margin_x = margin_x[select]\n",
    "    \n",
    "    h_x2 = -np.mean(np.log(margin_x))\n",
    "    h_y2 = -np.mean(np.log(margin_y))\n",
    "    \n",
    "    ## cross fitting\n",
    "    h_x = (h_x1 + h_x2)/2\n",
    "    h_y = (h_y1 + h_y2)/2\n",
    "    delta = (h_x - h_y)\n",
    "    \n",
    "    ## variance estimation using monte carlo\n",
    "    margin_x = fastKDE.pdf_at_points(var1 = x[:,0])\n",
    "    margin_y = fastKDE.pdf_at_points(var1 = x[:,1])\n",
    "    select = np.logical_and(margin_x > 0, margin_y > 0)\n",
    "    margin_y = margin_y[select]\n",
    "    margin_x = margin_x[select]\n",
    "    \n",
    "    covar = np.cov(np.log(margin_x), np.log(margin_y))\n",
    "    \n",
    "    delta_var = covar[0,0] + covar[1,1] - 2*covar[0,1]\n",
    "    delta_sd = np.sqrt(delta_var)\n",
    "    \n",
    "    delta_lcb = delta - st.norm.ppf(1 - alpha/2)*delta_sd/np.sqrt(len(select)/2)\n",
    "    delta_ucb = delta + st.norm.ppf(1 - alpha/2)*delta_sd/np.sqrt(len(select)/2)\n",
    "    \n",
    "    return ([h_x, h_y, delta_lcb, delta, delta_ucb])"
   ]
  },
  {
   "cell_type": "markdown",
   "id": "85d34ecc-2d78-404b-9442-c07307826cf1",
   "metadata": {},
   "source": [
    "## Case 1: $X \\sim U(0, 1); Y = X^{1/3}$"
   ]
  },
  {
   "cell_type": "code",
   "execution_count": 3,
   "id": "c90ca233-4d87-4017-8fda-8d480faa9c53",
   "metadata": {},
   "outputs": [],
   "source": [
    "def data_gen_1(n = 1000, eps = 0):\n",
    "    x = np.random.uniform(low = 0, high = 1, size = 1000)\n",
    "    y = np.power(x, 1/3)\n",
    "    x = (x - np.min(x))/(np.max(x) - np.min(x))\n",
    "    y = (y - np.min(y))/(np.max(y) - np.min(y)) + np.random.normal(loc=0, scale = eps, size = 1000)\n",
    "    return np.column_stack((x, y))"
   ]
  },
  {
   "cell_type": "code",
   "execution_count": 4,
   "id": "15101754-23a0-4957-a505-a28f27ffbdaa",
   "metadata": {},
   "outputs": [],
   "source": [
    "for eps in [0, 0.1, 0.15, 0.20, 0.25]:\n",
    "    np.random.seed(1234)\n",
    "    filename = '/home/soumikp/2023_bka/code/simulation_coverage/' + 'sim1_' + str(np.round(eps, 2)) + '_vals.csv'\n",
    "    niter = 250\n",
    "    op = np.zeros(niter)\n",
    "    for i in range(niter):\n",
    "        op[i] = estimator(data_gen_1(n = 1000, eps = np.round(eps, 2)))[3]\n",
    "    np.savetxt(filename, op, delimiter=',', header = 'C')"
   ]
  },
  {
   "cell_type": "markdown",
   "id": "0355f627-2b4e-4c06-8a40-136afe60fa5d",
   "metadata": {},
   "source": [
    "## Case 2: $X \\sim U(0, 1); Y = X^{1/2}$"
   ]
  },
  {
   "cell_type": "code",
   "execution_count": 5,
   "id": "93b8c3e4-f45e-4f59-8493-6df027f018f9",
   "metadata": {},
   "outputs": [],
   "source": [
    "def data_gen_2(n = 1000, eps = 0):\n",
    "    x = np.random.uniform(low = 0, high = 1, size = 1000)\n",
    "    y = np.power(x, 1/2) \n",
    "    x = (x - np.min(x))/(np.max(x) - np.min(x))\n",
    "    y = (y - np.min(y))/(np.max(y) - np.min(y)) + np.random.normal(loc=0, scale = eps, size = 1000)\n",
    "    return np.column_stack((x, y))"
   ]
  },
  {
   "cell_type": "code",
   "execution_count": 14,
   "id": "4d88ae31-5012-4940-8266-a0dc1f101a0d",
   "metadata": {},
   "outputs": [],
   "source": [
    "for eps in [0.10]:\n",
    "    np.random.seed(1234)\n",
    "    filename = '/home/soumikp/2023_bka/code/simulation_coverage/' + 'sim2_' + str(np.round(eps, 2)) + '_vals.csv'\n",
    "    niter = 250\n",
    "    op = np.zeros(niter)\n",
    "    for i in range(niter):\n",
    "        op[i] = estimator(data_gen_2(n = 1000, eps = np.round(eps, 2)))[3]\n",
    "    np.savetxt(filename, op, delimiter=',', header = 'C')"
   ]
  },
  {
   "cell_type": "markdown",
   "id": "3acd7cea-5a32-4309-a869-b43efdabd4fa",
   "metadata": {},
   "source": [
    "## Case 3: $X \\sim U(0, 1); Y = X^{2}$"
   ]
  },
  {
   "cell_type": "code",
   "execution_count": 7,
   "id": "4451e884-a0bc-4466-8a19-0bfb49c924d8",
   "metadata": {},
   "outputs": [],
   "source": [
    "def data_gen_3(n = 1000, eps = 0):\n",
    "    x = np.random.uniform(low = 0, high = 1, size = 1000)\n",
    "    y = np.power(x, 2) \n",
    "    x = (x - np.min(x))/(np.max(x) - np.min(x))\n",
    "    y = (y - np.min(y))/(np.max(y) - np.min(y)) + np.random.normal(loc=0, scale = eps, size = 1000)\n",
    "    return np.column_stack((x, y))"
   ]
  },
  {
   "cell_type": "code",
   "execution_count": 13,
   "id": "6893d396-c2a5-4bff-826f-2aa59bf18f6f",
   "metadata": {},
   "outputs": [],
   "source": [
    "for eps in [0.10]:\n",
    "    np.random.seed(1234)\n",
    "    filename = '/home/soumikp/2023_bka/code/simulation_coverage/' + 'sim3_' + str(np.round(eps, 2)) + '_vals.csv'\n",
    "    niter = 250\n",
    "    op = np.zeros(niter)\n",
    "    for i in range(niter):\n",
    "        op[i] = estimator(data_gen_3(n = 1000, eps = np.round(eps, 2)))[3]\n",
    "    np.savetxt(filename, op, delimiter=',', header = 'C')"
   ]
  },
  {
   "cell_type": "markdown",
   "id": "a13aff1b-411a-44a0-a014-f19b2e69a8a5",
   "metadata": {},
   "source": [
    "## Case 4: $X \\sim U(0, 1); Y = X^{3}$"
   ]
  },
  {
   "cell_type": "code",
   "execution_count": 11,
   "id": "8224ab41-9919-405f-8c27-108c04bf68de",
   "metadata": {},
   "outputs": [],
   "source": [
    "def data_gen_4(n = 1000, eps = 0):\n",
    "    x = np.random.uniform(low = 0, high = 1, size = 1000)\n",
    "    y = np.power(x, 3)\n",
    "    x = (x - np.min(x))/(np.max(x) - np.min(x))\n",
    "    y = (y - np.min(y))/(np.max(y) - np.min(y)) + np.random.normal(loc=0, scale = eps, size = 1000)\n",
    "    return np.column_stack((x, y))"
   ]
  },
  {
   "cell_type": "code",
   "execution_count": 12,
   "id": "a38b5b04-1230-42fa-8a3c-372e26cd0517",
   "metadata": {},
   "outputs": [],
   "source": [
    "for eps in [0, 0.05, 0.10, 0.15, 0.20]:\n",
    "    np.random.seed(1234)\n",
    "    filename = '/home/soumikp/2023_bka/code/simulation_coverage/' + 'sim4_' + str(np.round(eps, 2)) + '_vals.csv'\n",
    "    niter = 250\n",
    "    op = np.zeros(niter)\n",
    "    for i in range(niter):\n",
    "        op[i] = estimator(data_gen_4(n = 1000, eps = np.round(eps, 2)))[3]\n",
    "    np.savetxt(filename, op, delimiter=',', header = 'C')"
   ]
  },
  {
   "cell_type": "markdown",
   "id": "e6f7455b-a9f2-45bd-bc3e-d66a5df7618b",
   "metadata": {},
   "source": [
    "## Case 5: $X \\sim U(0, 1); Y = \\exp(X)$"
   ]
  },
  {
   "cell_type": "code",
   "execution_count": 16,
   "id": "85a23615-9fc5-40eb-a1d2-06188214ba8a",
   "metadata": {},
   "outputs": [],
   "source": [
    "def data_gen_5(n = 1000, eps = 0):\n",
    "    x = np.random.uniform(low = 0, high = 1, size = 1000)\n",
    "    y = np.exp(x)\n",
    "    x = (x - np.min(x))/(np.max(x) - np.min(x))\n",
    "    y = (y - np.min(y))/(np.max(y) - np.min(y)) + np.random.normal(loc=0, scale = eps, size = 1000)\n",
    "    return np.column_stack((x, y))"
   ]
  },
  {
   "cell_type": "code",
   "execution_count": 17,
   "id": "b69924f6-c5bf-4ea4-b860-ecbcd9d55d32",
   "metadata": {},
   "outputs": [],
   "source": [
    "for eps in [0, 0.05, 0.10, 0.15, 0.20]:\n",
    "    np.random.seed(1234)\n",
    "    filename = '/home/soumikp/2023_bka/code/simulation_coverage/' + 'sim5_' + str(np.round(eps, 2)) + '_vals.csv'\n",
    "    niter = 250\n",
    "    op = np.zeros(niter)\n",
    "    for i in range(niter):\n",
    "        op[i] = estimator(data_gen_5(n = 1000, eps = np.round(eps, 2)))[3]\n",
    "    np.savetxt(filename, op, delimiter=',', header = 'C')"
   ]
  },
  {
   "cell_type": "markdown",
   "id": "e043330e-c4b7-465f-90a6-35d4451aa373",
   "metadata": {},
   "source": [
    "## Case 6: $X \\sim U(0, 1); Y = \\sin(\\pi X/2)$"
   ]
  },
  {
   "cell_type": "code",
   "execution_count": 18,
   "id": "5506e595-960b-4d5c-a2d2-9a549e9c7cb0",
   "metadata": {},
   "outputs": [],
   "source": [
    "def data_gen_6(n = 1000, eps = 0):\n",
    "    x = np.random.uniform(low = 0, high = 1, size = 1000)\n",
    "    y = np.sin(11*x/2)\n",
    "    x = (x - np.min(x))/(np.max(x) - np.min(x))\n",
    "    y = (y - np.min(y))/(np.max(y) - np.min(y)) + np.random.normal(loc=0, scale = eps, size = 1000)\n",
    "    return np.column_stack((x, y))"
   ]
  },
  {
   "cell_type": "code",
   "execution_count": 21,
   "id": "3c21bfef-2af6-4440-b8cc-ebd9bf2b1212",
   "metadata": {},
   "outputs": [],
   "source": [
    "for eps in [0, 0.05, 0.10, 0.15, 0.20]:\n",
    "    np.random.seed(4321)\n",
    "    filename = '/home/soumikp/2023_bka/code/simulation_coverage/' + 'sim6_' + str(np.round(eps, 2)) + '_vals.csv'\n",
    "    niter = 250\n",
    "    op = np.zeros(niter)\n",
    "    for i in range(niter):\n",
    "        op[i] = estimator(data_gen_6(n = 1000, eps = np.round(eps, 2)))[3]\n",
    "    np.savetxt(filename, op, delimiter=',', header = 'C')"
   ]
  },
  {
   "cell_type": "code",
   "execution_count": null,
   "id": "c657928e-b9c2-4798-9164-e28d08867f63",
   "metadata": {},
   "outputs": [],
   "source": []
  }
 ],
 "metadata": {
  "kernelspec": {
   "display_name": "Python 3 (ipykernel)",
   "language": "python",
   "name": "python3"
  },
  "language_info": {
   "codemirror_mode": {
    "name": "ipython",
    "version": 3
   },
   "file_extension": ".py",
   "mimetype": "text/x-python",
   "name": "python",
   "nbconvert_exporter": "python",
   "pygments_lexer": "ipython3",
   "version": "3.11.5"
  }
 },
 "nbformat": 4,
 "nbformat_minor": 5
}
