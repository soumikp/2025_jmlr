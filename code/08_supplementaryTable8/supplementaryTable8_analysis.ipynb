{
 "cells": [
  {
   "cell_type": "markdown",
   "id": "985772ff-1225-4ae1-a2c8-d58d6df557a8",
   "metadata": {},
   "source": [
    "## ELEMENT: $\\sigma$ bootstrap estimation."
   ]
  },
  {
   "cell_type": "markdown",
   "id": "de3ba5b0-5820-4ff3-8fdb-eced2de81994",
   "metadata": {
    "jp-MarkdownHeadingCollapsed": true,
    "tags": []
   },
   "source": [
    "## Preliminaries"
   ]
  },
  {
   "cell_type": "code",
   "execution_count": 1,
   "id": "6146c5c1-d77f-4964-9340-4a3768ffb99b",
   "metadata": {},
   "outputs": [],
   "source": [
    "import warnings\n",
    "warnings.filterwarnings(\"ignore\")\n",
    "\n",
    "import numpy as np\n",
    "import scipy.stats as st\n",
    "import scipy.special as sp\n",
    "import pandas as pd \n",
    "import seaborn as sns\n",
    "import matplotlib.pyplot as plt\n",
    "import statsmodels.api as sm\n",
    "\n",
    "from pygam import LinearGAM, s\n",
    "from sklearn.model_selection import train_test_split\n",
    "from sklearn.metrics import mean_squared_error\n",
    "import matplotlib.pyplot as plt\n",
    "\n",
    "from fastkde import fastKDE"
   ]
  },
  {
   "cell_type": "code",
   "execution_count": 2,
   "id": "1b170d5f-758f-42ef-9ddd-c857cb542e8f",
   "metadata": {},
   "outputs": [],
   "source": [
    "def affine(x):\n",
    "    y = (x - np.min(x))/(np.max(x) - np.min(x))\n",
    "    return y"
   ]
  },
  {
   "cell_type": "code",
   "execution_count": 3,
   "id": "1f9b598c-a120-4a07-8de8-908884b311a7",
   "metadata": {},
   "outputs": [],
   "source": [
    "def estimator_strata(x, alpha = 0.05):\n",
    "    \n",
    "    if(x.shape[0]%2!=0):\n",
    "        x = x[:-1]\n",
    "        \n",
    "    x = np.column_stack((affine(x[:,0]), affine(x[:,1])))\n",
    "    estim, inf = np.split(x, 2) #split data up into two halves\n",
    "    \n",
    "    ## first split used for density estimation\n",
    "    margin_x = fastKDE.pdf_at_points(var1 = estim[:,0], list_of_points = list(inf[:,0]))\n",
    "    margin_y = fastKDE.pdf_at_points(var1 = estim[:,1], list_of_points = list(inf[:,1]))\n",
    "    select = np.logical_and(margin_x > 0, margin_y > 0)\n",
    "    margin_y = margin_y[select]\n",
    "    margin_x = margin_x[select]\n",
    "    \n",
    "    h_x1 = -np.mean(np.log(margin_x))\n",
    "    h_y1 = -np.mean(np.log(margin_y))\n",
    "    covar1 = np.cov(np.log(margin_x), np.log(margin_y))\n",
    "    delta_var1 = covar1[0,0] + covar1[1,1] - 2*covar1[0,1]\n",
    "    \n",
    "    \n",
    "    ## second split used for density estimation\n",
    "    margin_x = fastKDE.pdf_at_points(var1 = inf[:,0], list_of_points = list(estim[:,0]))\n",
    "    margin_y = fastKDE.pdf_at_points(var1 = inf[:,1], list_of_points = list(estim[:,1]))\n",
    "    select = np.logical_and(margin_x > 0, margin_y > 0)\n",
    "    margin_y = margin_y[select]\n",
    "    margin_x = margin_x[select]\n",
    "    \n",
    "    h_x2 = -np.mean(np.log(margin_x))\n",
    "    h_y2 = -np.mean(np.log(margin_y))\n",
    "    covar2 = np.cov(np.log(margin_x), np.log(margin_y))\n",
    "    delta_var2 = covar2[0,0] + covar2[1,1] - 2*covar2[0,1]\n",
    "    \n",
    "    ## cross fitting\n",
    "    h_x = (h_x1 + h_x2)/2\n",
    "    h_y = (h_y1 + h_y2)/2\n",
    "    delta = (h_x - h_y)\n",
    "    \n",
    "    ## variance estimation using monte carlo\n",
    "    delta_var = (delta_var1 + delta_var2)/2\n",
    "    delta_sd = np.sqrt(delta_var)\n",
    "    \n",
    "    delta_lcb = delta - st.norm.ppf(1 - alpha/2)*delta_sd/np.sqrt(len(select))\n",
    "    delta_ucb = delta + st.norm.ppf(1 - alpha/2)*delta_sd/np.sqrt(len(select))\n",
    "    \n",
    "    return ([delta, delta_lcb, delta_ucb])"
   ]
  },
  {
   "cell_type": "code",
   "execution_count": 4,
   "id": "e47e3487-2e36-4e31-abb6-95b9880a81a1",
   "metadata": {},
   "outputs": [],
   "source": [
    "def estimator(x, alpha = 0.05):\n",
    "    \n",
    "    if(x.shape[0]%2!=0):\n",
    "        x = x[:-1]\n",
    "    \n",
    "    x = np.column_stack((affine(x[:,0]), affine(x[:,1])))\n",
    "    estim, inf = np.split(x, 2) #split data up into two halves\n",
    "    \n",
    "    ## first split used for density estimation\n",
    "    margin_x = fastKDE.pdf_at_points(var1 = estim[:,0], list_of_points = list(inf[:,0]))\n",
    "    margin_y = fastKDE.pdf_at_points(var1 = estim[:,1], list_of_points = list(inf[:,1]))\n",
    "    select = np.logical_and(margin_x > 0, margin_y > 0)\n",
    "    margin_y = margin_y[select]\n",
    "    margin_x = margin_x[select]\n",
    "    \n",
    "    h_x1 = -np.mean(np.log(margin_x))\n",
    "    h_y1 = -np.mean(np.log(margin_y))\n",
    "    covar1 = np.cov(np.log(margin_x), np.log(margin_y))\n",
    "    delta_var1 = covar1[0,0] + covar1[1,1] - 2*covar1[0,1]\n",
    "    \n",
    "    \n",
    "    ## second split used for density estimation\n",
    "    margin_x = fastKDE.pdf_at_points(var1 = inf[:,0], list_of_points = list(estim[:,0]))\n",
    "    margin_y = fastKDE.pdf_at_points(var1 = inf[:,1], list_of_points = list(estim[:,1]))\n",
    "    select = np.logical_and(margin_x > 0, margin_y > 0)\n",
    "    margin_y = margin_y[select]\n",
    "    margin_x = margin_x[select]\n",
    "    \n",
    "    h_x2 = -np.mean(np.log(margin_x))\n",
    "    h_y2 = -np.mean(np.log(margin_y))\n",
    "    covar2 = np.cov(np.log(margin_x), np.log(margin_y))\n",
    "    delta_var2 = covar2[0,0] + covar2[1,1] - 2*covar2[0,1]\n",
    "    \n",
    "    ## cross fitting\n",
    "    h_x = (h_x1 + h_x2)/2\n",
    "    h_y = (h_y1 + h_y2)/2\n",
    "    delta = (h_x - h_y)\n",
    "    \n",
    "    ## variance estimation using monte carlo\n",
    "    delta_var = (delta_var1 + delta_var2)/2\n",
    "    delta_sd = np.sqrt(delta_var)\n",
    "    \n",
    "    delta_lcb = delta - st.norm.ppf(1 - alpha/2)*delta_sd/np.sqrt(len(select))\n",
    "    delta_ucb = delta + st.norm.ppf(1 - alpha/2)*delta_sd/np.sqrt(len(select))\n",
    "    \n",
    "    return ([delta, delta_sd, x.shape[0]])"
   ]
  },
  {
   "cell_type": "code",
   "execution_count": 5,
   "id": "10978d08",
   "metadata": {},
   "outputs": [],
   "source": [
    "def fisher_inf(y_pred):\n",
    "    y_vals = np.linspace(np.min(y_pred), np.max(y_pred), 500)\n",
    "    kde = st.gaussian_kde(y_pred)\n",
    "    pdf_values = kde.pdf(y_vals)\n",
    "    log_likelihood_values = np.log(pdf_values)\n",
    "    log_likelihood_prime = np.gradient(log_likelihood_values, y_vals)\n",
    "    log_likelihood_double_prime = np.gradient(log_likelihood_prime, y_vals)\n",
    "    fisher_information = -np.nanmean(log_likelihood_double_prime)\n",
    "    return(fisher_information)"
   ]
  },
  {
   "cell_type": "code",
   "execution_count": 6,
   "id": "e34b17b8-997e-40e7-b035-0c73f611fe23",
   "metadata": {},
   "outputs": [],
   "source": [
    "bps = pd.read_csv(\"/home/soumikp/enar_2023/data/outcome_bp.csv\")"
   ]
  },
  {
   "cell_type": "markdown",
   "id": "5b59e487-6199-4fd2-a60b-6f68eaee04f6",
   "metadata": {
    "jp-MarkdownHeadingCollapsed": true,
    "tags": []
   },
   "source": [
    "## FGF5 "
   ]
  },
  {
   "cell_type": "code",
   "execution_count": 7,
   "id": "e5996da2-f802-440b-98fe-162cfa6c3310",
   "metadata": {
    "scrolled": true
   },
   "outputs": [],
   "source": [
    "dnam = pd.read_csv(\"/home/soumikp/enar_2023/data/dat_FGF5.csv\").iloc[:,1:22].mean(axis=1)\n",
    "folio = pd.read_csv(\"/home/soumikp/enar_2023/data/dat_FGF5.csv\").iloc[:,23]\n",
    "data = pd.concat([folio, dnam], axis=1)\n",
    "data = pd.merge(data, bps, on = 'foliocc', how='inner').dropna()\n",
    "data.columns = ['id', 'dnam', 'sex', 'bps', 'bpd']\n",
    "data_m = data[data['sex'] == 0]\n",
    "data_f = data[data['sex'] == 1]"
   ]
  },
  {
   "cell_type": "markdown",
   "id": "d8e96928-96e9-4c3c-8143-85913518bdd2",
   "metadata": {
    "jp-MarkdownHeadingCollapsed": true,
    "tags": []
   },
   "source": [
    "### Estimates for BPS vs DNAm for females"
   ]
  },
  {
   "cell_type": "code",
   "execution_count": 8,
   "id": "449752f4-07f4-4d47-962a-bf7ef9ec205b",
   "metadata": {},
   "outputs": [
    {
     "name": "stdout",
     "output_type": "stream",
     "text": [
      "[-0.139 -0.002  0.317]\n",
      "[-0.124]\n"
     ]
    }
   ],
   "source": [
    "temp = data_f\n",
    "temp['bp'] = temp['bps']\n",
    "\n",
    "np.random.seed(42)\n",
    "niter = 250\n",
    "mse = np.zeros(niter)\n",
    "bound = np.zeros(niter)\n",
    "\n",
    "for i in range(niter):\n",
    "    bs_temp = temp.sample(n = len(temp), replace = True)\n",
    "    bs_temp['bp'] = affine(bs_temp['bp'])\n",
    "    bs_temp['dnam'] = affine(bs_temp['dnam'])\n",
    "    \n",
    "    # Create and fit the GAM model with cubic splines\n",
    "    gam = LinearGAM(s(0, spline_order = 1)).fit(bs_temp['bp'], bs_temp['dnam'])\n",
    "\n",
    "    # Make predictions on the test set\n",
    "    y_pred = affine(gam.predict(bs_temp['bp'])) # this is my proxy for uncontaminated Y\n",
    "\n",
    "    # Evaluate the model \n",
    "    mse[i] = np.std(gam.deviance_residuals(bs_temp['bp'], bs_temp['dnam']))\n",
    "    \n",
    "    # Fisher information\n",
    "    fisher_information = fisher_inf(y_pred)\n",
    "    \n",
    "    # Bound of error variance\n",
    "    bound[i] = (np.exp(2*estimator(np.column_stack((bs_temp['bp'], bs_temp['dnam'])))[0]) - 1)/fisher_information \n",
    "    \n",
    "print(np.round(np.percentile(bound-mse, [2.5, 50, 97.5]), 3))\n",
    "print(np.round(np.percentile(bound-mse, [5]), 3))"
   ]
  },
  {
   "cell_type": "markdown",
   "id": "aecbc15d-9744-48d7-807b-01811a7d3452",
   "metadata": {
    "jp-MarkdownHeadingCollapsed": true,
    "tags": []
   },
   "source": [
    "### Estimates for BPS vs DNAm for males"
   ]
  },
  {
   "cell_type": "code",
   "execution_count": 9,
   "id": "3db319b9-63f3-462a-9192-378ad8ed02ab",
   "metadata": {},
   "outputs": [
    {
     "name": "stdout",
     "output_type": "stream",
     "text": [
      "[-0.1689 -0.0907 -0.0065]\n",
      "[-0.155]\n"
     ]
    }
   ],
   "source": [
    "temp = data_m\n",
    "temp['bp'] = temp['bps']\n",
    "\n",
    "np.random.seed(42)\n",
    "niter = 250\n",
    "mse = np.zeros(niter)\n",
    "bound = np.zeros(niter)\n",
    "\n",
    "for i in range(niter):\n",
    "    bs_temp = temp.sample(n = len(temp), replace = True)\n",
    "    bs_temp['bp'] = affine(bs_temp['bp'])\n",
    "    bs_temp['dnam'] = affine(bs_temp['dnam'])\n",
    "    \n",
    "    # Create and fit the GAM model with cubic splines\n",
    "    gam = LinearGAM(s(0, spline_order = 1)).fit(bs_temp['bp'], bs_temp['dnam'])\n",
    "\n",
    "    # Make predictions on the test set\n",
    "    y_pred = affine(gam.predict(bs_temp['bp'])) # this is my proxy for uncontaminated Y\n",
    "\n",
    "    # Evaluate the model \n",
    "    mse[i] = np.std(gam.deviance_residuals(bs_temp['bp'], bs_temp['dnam']))\n",
    "    \n",
    "    # Fisher information\n",
    "    fisher_information = fisher_inf(y_pred)\n",
    "    \n",
    "    # Bound of error variance\n",
    "    bound[i] = (np.exp(2*estimator(np.column_stack((bs_temp['bp'], bs_temp['dnam'])))[0]) - 1)/fisher_information \n",
    "    \n",
    "print(np.round(np.percentile(bound-mse, [2.5, 50, 97.5]), 4))\n",
    "print(np.round(np.percentile(bound-mse, [5]), 3))"
   ]
  },
  {
   "cell_type": "markdown",
   "id": "13f81551-c4f8-49a9-a8ef-030635389d0b",
   "metadata": {
    "jp-MarkdownHeadingCollapsed": true,
    "tags": []
   },
   "source": [
    "### Estimates for BPS vs DNAm for combined "
   ]
  },
  {
   "cell_type": "code",
   "execution_count": 10,
   "id": "0b53c0ae-c0e7-4e4b-9a98-7df27ad7081e",
   "metadata": {},
   "outputs": [
    {
     "name": "stdout",
     "output_type": "stream",
     "text": [
      "[-0.145 -0.045  0.106]\n",
      "[-0.124]\n"
     ]
    }
   ],
   "source": [
    "temp = data\n",
    "temp['bp'] = temp['bps']\n",
    "\n",
    "np.random.seed(42)\n",
    "niter = 250\n",
    "mse = np.zeros(niter)\n",
    "bound = np.zeros(niter)\n",
    "\n",
    "for i in range(niter):\n",
    "    bs_temp = temp.sample(n = len(temp), replace = True)\n",
    "    bs_temp['bp'] = affine(bs_temp['bp'])\n",
    "    bs_temp['dnam'] = affine(bs_temp['dnam'])\n",
    "    \n",
    "    # Create and fit the GAM model with cubic splines\n",
    "    gam = LinearGAM(s(0, spline_order = 1)).fit(bs_temp['bp'], bs_temp['dnam'])\n",
    "\n",
    "    # Make predictions on the test set\n",
    "    y_pred = affine(gam.predict(bs_temp['bp'])) # this is my proxy for uncontaminated Y\n",
    "\n",
    "    # Evaluate the model \n",
    "    mse[i] = np.std(gam.deviance_residuals(bs_temp['bp'], bs_temp['dnam']))\n",
    "    \n",
    "    # Fisher information\n",
    "    fisher_information = fisher_inf(y_pred)\n",
    "    \n",
    "    # Bound of error variance\n",
    "    bound[i] = (np.exp(2*estimator(np.column_stack((bs_temp['bp'], bs_temp['dnam'])))[0]) - 1)/fisher_information \n",
    "    \n",
    "print(np.round(np.percentile(bound-mse, [2.5, 50, 97.5]), 3))\n",
    "print(np.round(np.percentile(bound-mse, [5]), 3))"
   ]
  },
  {
   "cell_type": "markdown",
   "id": "0bd053d2",
   "metadata": {
    "jp-MarkdownHeadingCollapsed": true,
    "tags": []
   },
   "source": [
    "### Estimates for BPD vs DNAm for females"
   ]
  },
  {
   "cell_type": "code",
   "execution_count": 11,
   "id": "5ae01b02",
   "metadata": {},
   "outputs": [
    {
     "name": "stdout",
     "output_type": "stream",
     "text": [
      "[-0.155 -0.009  0.848]\n",
      "[-0.138]\n"
     ]
    }
   ],
   "source": [
    "temp = data_f\n",
    "temp['bp'] = temp['bpd']\n",
    "\n",
    "np.random.seed(42)\n",
    "niter = 250\n",
    "mse = np.zeros(niter)\n",
    "bound = np.zeros(niter)\n",
    "\n",
    "for i in range(niter):\n",
    "    bs_temp = temp.sample(n = len(temp), replace = True)\n",
    "    bs_temp['bp'] = affine(bs_temp['bp'])\n",
    "    bs_temp['dnam'] = affine(bs_temp['dnam'])\n",
    "    \n",
    "    # Create and fit the GAM model with cubic splines\n",
    "    gam = LinearGAM(s(0, spline_order = 1)).fit(bs_temp['bp'], bs_temp['dnam'])\n",
    "\n",
    "    # Make predictions on the test set\n",
    "    y_pred = affine(gam.predict(bs_temp['bp'])) # this is my proxy for uncontaminated Y\n",
    "\n",
    "    # Evaluate the model \n",
    "    mse[i] = np.std(gam.deviance_residuals(bs_temp['bp'], bs_temp['dnam']))\n",
    "    \n",
    "    # Fisher information\n",
    "    fisher_information = fisher_inf(y_pred)\n",
    "    \n",
    "    # Bound of error variance\n",
    "    bound[i] = (np.exp(2*estimator(np.column_stack((bs_temp['bp'], bs_temp['dnam'])))[0]) - 1)/fisher_information \n",
    "    \n",
    "print(np.round(np.percentile(bound-mse, [2.5, 50, 97.5]), 3))\n",
    "print(np.round(np.percentile(bound-mse, [5]), 3))"
   ]
  },
  {
   "cell_type": "markdown",
   "id": "e980730e",
   "metadata": {
    "jp-MarkdownHeadingCollapsed": true,
    "tags": []
   },
   "source": [
    "### Estimates for BPD vs DNAm for males"
   ]
  },
  {
   "cell_type": "code",
   "execution_count": 12,
   "id": "0d4c880c",
   "metadata": {},
   "outputs": [
    {
     "name": "stdout",
     "output_type": "stream",
     "text": [
      "[-0.186 -0.09   0.108]\n",
      "[-0.161]\n"
     ]
    }
   ],
   "source": [
    "temp = data_m\n",
    "temp['bp'] = temp['bpd']\n",
    "\n",
    "np.random.seed(42)\n",
    "niter = 250\n",
    "mse = np.zeros(niter)\n",
    "bound = np.zeros(niter)\n",
    "\n",
    "for i in range(niter):\n",
    "    bs_temp = temp.sample(n = len(temp), replace = True)\n",
    "    bs_temp['bp'] = affine(bs_temp['bp'])\n",
    "    bs_temp['dnam'] = affine(bs_temp['dnam'])\n",
    "    \n",
    "    # Create and fit the GAM model with cubic splines\n",
    "    gam = LinearGAM(s(0, spline_order = 1)).fit(bs_temp['bp'], bs_temp['dnam'])\n",
    "\n",
    "    # Make predictions on the test set\n",
    "    y_pred = affine(gam.predict(bs_temp['bp'])) # this is my proxy for uncontaminated Y\n",
    "\n",
    "    # Evaluate the model \n",
    "    mse[i] = np.std(gam.deviance_residuals(bs_temp['bp'], bs_temp['dnam']))\n",
    "    \n",
    "    # Fisher information\n",
    "    fisher_information = fisher_inf(y_pred)\n",
    "    \n",
    "    # Bound of error variance\n",
    "    bound[i] = (np.exp(2*estimator(np.column_stack((bs_temp['bp'], bs_temp['dnam'])))[0]) - 1)/fisher_information \n",
    "    \n",
    "print(np.round(np.percentile(bound-mse, [2.5, 50, 97.5]), 3))\n",
    "print(np.round(np.percentile(bound-mse, [5]), 3))"
   ]
  },
  {
   "cell_type": "markdown",
   "id": "28ff802a-ba8c-449b-af47-6ccf096cfd65",
   "metadata": {
    "jp-MarkdownHeadingCollapsed": true,
    "tags": []
   },
   "source": [
    "### Estimates for BPD vs DNAm for combined"
   ]
  },
  {
   "cell_type": "code",
   "execution_count": 13,
   "id": "c572de07-65b6-44ff-ada9-c9d1f373ca56",
   "metadata": {},
   "outputs": [
    {
     "name": "stdout",
     "output_type": "stream",
     "text": [
      "[-0.16  -0.041  0.207]\n",
      "[-0.134]\n"
     ]
    }
   ],
   "source": [
    "temp = data\n",
    "temp['bp'] = temp['bpd']\n",
    "\n",
    "np.random.seed(42)\n",
    "niter = 250\n",
    "mse = np.zeros(niter)\n",
    "bound = np.zeros(niter)\n",
    "\n",
    "for i in range(niter):\n",
    "    bs_temp = temp.sample(n = len(temp), replace = True)\n",
    "    bs_temp['bp'] = affine(bs_temp['bp'])\n",
    "    bs_temp['dnam'] = affine(bs_temp['dnam'])\n",
    "    \n",
    "    # Create and fit the GAM model with cubic splines\n",
    "    gam = LinearGAM(s(0, spline_order = 1)).fit(bs_temp['bp'], bs_temp['dnam'])\n",
    "\n",
    "    # Make predictions on the test set\n",
    "    y_pred = affine(gam.predict(bs_temp['bp'])) # this is my proxy for uncontaminated Y\n",
    "\n",
    "    # Evaluate the model \n",
    "    mse[i] = np.std(gam.deviance_residuals(bs_temp['bp'], bs_temp['dnam']))\n",
    "    \n",
    "    # Fisher information\n",
    "    fisher_information = fisher_inf(y_pred)\n",
    "    \n",
    "    # Bound of error variance\n",
    "    bound[i] = (np.exp(2*estimator(np.column_stack((bs_temp['bp'], bs_temp['dnam'])))[0]) - 1)/fisher_information \n",
    "    \n",
    "print(np.round(np.percentile(bound-mse, [2.5, 50, 97.5]), 3))\n",
    "print(np.round(np.percentile(bound-mse, [5]), 3))"
   ]
  },
  {
   "cell_type": "markdown",
   "id": "582f45ef-6168-4389-adb5-ce1d3fd2a732",
   "metadata": {
    "jp-MarkdownHeadingCollapsed": true,
    "tags": []
   },
   "source": [
    "## HSD11B2"
   ]
  },
  {
   "cell_type": "code",
   "execution_count": 14,
   "id": "6f89341e-7bdd-494a-9683-cb84e42fa5c0",
   "metadata": {},
   "outputs": [],
   "source": [
    "dnam = pd.read_csv(\"/home/soumikp/enar_2023/data/dat_HSD11B2.csv\").iloc[:,0:21].mean(axis=1)\n",
    "folio = pd.read_csv(\"/home/soumikp/enar_2023/data/dat_HSD11B2.csv\").iloc[:,22]\n",
    "data = pd.concat([folio, dnam], axis=1)\n",
    "data = pd.merge(data, bps, on = 'foliocc', how='inner').dropna()\n",
    "data.columns = ['id', 'dnam', 'sex', 'bps', 'bpd']\n",
    "data_m = data[data['sex'] == 0]\n",
    "data_f = data[data['sex'] == 1]"
   ]
  },
  {
   "cell_type": "markdown",
   "id": "9d966e8c-4e39-4a24-bf09-1e7b416d450a",
   "metadata": {
    "jp-MarkdownHeadingCollapsed": true,
    "tags": []
   },
   "source": [
    "### Estimates for BPS vs DNAm for females"
   ]
  },
  {
   "cell_type": "code",
   "execution_count": 15,
   "id": "812d28c7-de42-4d9d-ab07-8e10a567dac7",
   "metadata": {},
   "outputs": [
    {
     "name": "stdout",
     "output_type": "stream",
     "text": [
      "[-0.105  0.021  0.528]\n",
      "[-0.072]\n"
     ]
    }
   ],
   "source": [
    "temp = data_f\n",
    "temp['bp'] = temp['bps']\n",
    "\n",
    "np.random.seed(42)\n",
    "niter = 250\n",
    "mse = np.zeros(niter)\n",
    "bound = np.zeros(niter)\n",
    "\n",
    "for i in range(niter):\n",
    "    bs_temp = temp.sample(n = len(temp), replace = True)\n",
    "    bs_temp['bp'] = affine(bs_temp['bp'])\n",
    "    bs_temp['dnam'] = affine(bs_temp['dnam'])\n",
    "    \n",
    "    # Create and fit the GAM model with cubic splines\n",
    "    gam = LinearGAM(s(0, spline_order = 1)).fit(bs_temp['bp'], bs_temp['dnam'])\n",
    "\n",
    "    # Make predictions on the test set\n",
    "    y_pred = affine(gam.predict(bs_temp['bp'])) # this is my proxy for uncontaminated Y\n",
    "\n",
    "    # Evaluate the model \n",
    "    mse[i] = np.std(gam.deviance_residuals(bs_temp['bp'], bs_temp['dnam']))\n",
    "    \n",
    "    # Fisher information\n",
    "    fisher_information = fisher_inf(y_pred)\n",
    "    \n",
    "    # Bound of error variance\n",
    "    bound[i] = (np.exp(2*estimator(np.column_stack((bs_temp['bp'], bs_temp['dnam'])))[0]) - 1)/fisher_information \n",
    "    \n",
    "print(np.round(np.percentile(bound-mse, [2.5, 50, 97.5]), 3))\n",
    "print(np.round(np.percentile(bound-mse, [5]), 3))"
   ]
  },
  {
   "cell_type": "markdown",
   "id": "208470cf-977a-40b4-92ca-22874bd5ee0b",
   "metadata": {
    "jp-MarkdownHeadingCollapsed": true,
    "tags": []
   },
   "source": [
    "### Estimates for BPS vs DNAm for males"
   ]
  },
  {
   "cell_type": "code",
   "execution_count": 16,
   "id": "c61a190a-d30f-4143-bd5b-b0bc081b7443",
   "metadata": {},
   "outputs": [
    {
     "name": "stdout",
     "output_type": "stream",
     "text": [
      "[-2.611 -0.016  1.671]\n",
      "[-0.792]\n"
     ]
    }
   ],
   "source": [
    "temp = data_m\n",
    "temp['bp'] = temp['bps']\n",
    "\n",
    "np.random.seed(42)\n",
    "niter = 250\n",
    "mse = np.zeros(niter)\n",
    "bound = np.zeros(niter)\n",
    "\n",
    "for i in range(niter):\n",
    "    bs_temp = temp.sample(n = len(temp), replace = True)\n",
    "    bs_temp['bp'] = affine(bs_temp['bp'])\n",
    "    bs_temp['dnam'] = affine(bs_temp['dnam'])\n",
    "    \n",
    "    # Create and fit the GAM model with cubic splines\n",
    "    gam = LinearGAM(s(0, spline_order = 1)).fit(bs_temp['bp'], bs_temp['dnam'])\n",
    "\n",
    "    # Make predictions on the test set\n",
    "    y_pred = affine(gam.predict(bs_temp['bp'])) # this is my proxy for uncontaminated Y\n",
    "\n",
    "    # Evaluate the model \n",
    "    mse[i] = np.std(gam.deviance_residuals(bs_temp['bp'], bs_temp['dnam']))\n",
    "    \n",
    "    # Fisher information\n",
    "    fisher_information = fisher_inf(y_pred)\n",
    "    \n",
    "    # Bound of error variance\n",
    "    bound[i] = (np.exp(2*estimator(np.column_stack((bs_temp['bp'], bs_temp['dnam'])))[0]) - 1)/fisher_information \n",
    "    \n",
    "print(np.round(np.percentile(bound-mse, [2.5, 50, 97.5]), 3))\n",
    "print(np.round(np.percentile(bound-mse, [5]), 3))"
   ]
  },
  {
   "cell_type": "markdown",
   "id": "df07c335-1d62-4602-8d5d-c783628d3f1a",
   "metadata": {
    "jp-MarkdownHeadingCollapsed": true,
    "tags": []
   },
   "source": [
    "### Estimates for BPS vs DNAm for combined"
   ]
  },
  {
   "cell_type": "code",
   "execution_count": 17,
   "id": "50d6dff5-cbe5-4737-8d27-59cd51b545a6",
   "metadata": {},
   "outputs": [
    {
     "name": "stdout",
     "output_type": "stream",
     "text": [
      "[-3.4    0.057  3.498]\n",
      "[-2.383]\n"
     ]
    }
   ],
   "source": [
    "temp = data\n",
    "temp['bp'] = temp['bps']\n",
    "\n",
    "np.random.seed(42)\n",
    "niter = 250\n",
    "mse = np.zeros(niter)\n",
    "bound = np.zeros(niter)\n",
    "\n",
    "for i in range(niter):\n",
    "    bs_temp = temp.sample(n = len(temp), replace = True)\n",
    "    bs_temp['bp'] = affine(bs_temp['bp'])\n",
    "    bs_temp['dnam'] = affine(bs_temp['dnam'])\n",
    "    \n",
    "    # Create and fit the GAM model with cubic splines\n",
    "    gam = LinearGAM(s(0, spline_order = 1)).fit(bs_temp['bp'], bs_temp['dnam'])\n",
    "\n",
    "    # Make predictions on the test set\n",
    "    y_pred = affine(gam.predict(bs_temp['bp'])) # this is my proxy for uncontaminated Y\n",
    "\n",
    "    # Evaluate the model \n",
    "    mse[i] = np.std(gam.deviance_residuals(bs_temp['bp'], bs_temp['dnam']))\n",
    "    \n",
    "    # Fisher information\n",
    "    fisher_information = fisher_inf(y_pred)\n",
    "    \n",
    "    # Bound of error variance\n",
    "    bound[i] = (np.exp(2*estimator(np.column_stack((bs_temp['bp'], bs_temp['dnam'])))[0]) - 1)/fisher_information \n",
    "    \n",
    "print(np.round(np.percentile(bound-mse, [2.5, 50, 97.5]), 3))\n",
    "print(np.round(np.percentile(bound-mse, [5]), 3))"
   ]
  },
  {
   "cell_type": "markdown",
   "id": "9614608e-99e1-4b40-82b8-569b590e61b6",
   "metadata": {
    "jp-MarkdownHeadingCollapsed": true,
    "tags": []
   },
   "source": [
    "### Estimates of BPD vs DNAm for females"
   ]
  },
  {
   "cell_type": "code",
   "execution_count": 21,
   "id": "c0ff61e6-83ac-47a6-a0f9-e8b8624bed9e",
   "metadata": {},
   "outputs": [
    {
     "name": "stdout",
     "output_type": "stream",
     "text": [
      "[-0.101  0.017  0.691]\n",
      "[-0.08]\n"
     ]
    }
   ],
   "source": [
    "temp = data_f\n",
    "temp['bp'] = temp['bpd']\n",
    "\n",
    "np.random.seed(42)\n",
    "niter = 250\n",
    "mse = np.zeros(niter)\n",
    "bound = np.zeros(niter)\n",
    "\n",
    "for i in range(niter):\n",
    "    bs_temp = temp.sample(n = len(temp), replace = True)\n",
    "    bs_temp['bp'] = affine(bs_temp['bp'])\n",
    "    bs_temp['dnam'] = affine(bs_temp['dnam'])\n",
    "    \n",
    "    # Create and fit the GAM model with cubic splines\n",
    "    gam = LinearGAM(s(0, spline_order = 1)).fit(bs_temp['bp'], bs_temp['dnam'])\n",
    "\n",
    "    # Make predictions on the test set\n",
    "    y_pred = affine(gam.predict(bs_temp['bp'])) # this is my proxy for uncontaminated Y\n",
    "\n",
    "    # Evaluate the model \n",
    "    mse[i] = np.std(gam.deviance_residuals(bs_temp['bp'], bs_temp['dnam']))\n",
    "    \n",
    "    # Fisher information\n",
    "    fisher_information = fisher_inf(y_pred)\n",
    "    \n",
    "    # Bound of error variance\n",
    "    bound[i] = (np.exp(2*estimator(np.column_stack((bs_temp['bp'], bs_temp['dnam'])))[0]) - 1)/fisher_information \n",
    "    \n",
    "print(np.round(np.percentile(bound-mse, [2.5, 50, 97.5]), 3))\n",
    "print(np.round(np.percentile(bound-mse, [5]), 3))"
   ]
  },
  {
   "cell_type": "markdown",
   "id": "42641c9c-f79c-4232-a5c8-363ab5197a54",
   "metadata": {
    "jp-MarkdownHeadingCollapsed": true,
    "tags": []
   },
   "source": [
    "### Estimates of BPD vs DNAm for males"
   ]
  },
  {
   "cell_type": "code",
   "execution_count": 22,
   "id": "224edf59-cc09-4c72-b8e6-9c30ad348b00",
   "metadata": {},
   "outputs": [
    {
     "name": "stdout",
     "output_type": "stream",
     "text": [
      "[-0.162 -0.056  0.277]\n",
      "[-0.148]\n"
     ]
    }
   ],
   "source": [
    "temp = data_m\n",
    "temp['bp'] = temp['bpd']\n",
    "\n",
    "np.random.seed(42)\n",
    "niter = 250\n",
    "mse = np.zeros(niter)\n",
    "bound = np.zeros(niter)\n",
    "\n",
    "for i in range(niter):\n",
    "    bs_temp = temp.sample(n = len(temp), replace = True)\n",
    "    bs_temp['bp'] = affine(bs_temp['bp'])\n",
    "    bs_temp['dnam'] = affine(bs_temp['dnam'])\n",
    "    \n",
    "    # Create and fit the GAM model with cubic splines\n",
    "    gam = LinearGAM(s(0, spline_order = 1)).fit(bs_temp['bp'], bs_temp['dnam'])\n",
    "\n",
    "    # Make predictions on the test set\n",
    "    y_pred = affine(gam.predict(bs_temp['bp'])) # this is my proxy for uncontaminated Y\n",
    "\n",
    "    # Evaluate the model \n",
    "    mse[i] = np.std(gam.deviance_residuals(bs_temp['bp'], bs_temp['dnam']))\n",
    "    \n",
    "    # Fisher information\n",
    "    fisher_information = fisher_inf(y_pred)\n",
    "    \n",
    "    # Bound of error variance\n",
    "    bound[i] = (np.exp(2*estimator(np.column_stack((bs_temp['bp'], bs_temp['dnam'])))[0]) - 1)/fisher_information \n",
    "    \n",
    "print(np.round(np.percentile(bound-mse, [2.5, 50, 97.5]), 3))\n",
    "print(np.round(np.percentile(bound-mse, [5]), 3))"
   ]
  },
  {
   "cell_type": "markdown",
   "id": "f24a5a27-8ea0-49ab-9078-c2b8e506c24b",
   "metadata": {
    "jp-MarkdownHeadingCollapsed": true,
    "tags": []
   },
   "source": [
    "### Estimates for BPS vs DNAm for combined"
   ]
  },
  {
   "cell_type": "code",
   "execution_count": 23,
   "id": "13934dd0-9077-4129-9259-955b399bec20",
   "metadata": {},
   "outputs": [
    {
     "name": "stdout",
     "output_type": "stream",
     "text": [
      "[-3.4    0.057  3.498]\n",
      "[-2.383]\n"
     ]
    }
   ],
   "source": [
    "temp = data\n",
    "temp['bp'] = temp['bpd']\n",
    "\n",
    "np.random.seed(42)\n",
    "niter = 250\n",
    "mse = np.zeros(niter)\n",
    "bound = np.zeros(niter)\n",
    "\n",
    "for i in range(niter):\n",
    "    bs_temp = temp.sample(n = len(temp), replace = True)\n",
    "    bs_temp['bp'] = affine(bs_temp['bp'])\n",
    "    bs_temp['dnam'] = affine(bs_temp['dnam'])\n",
    "    \n",
    "    # Create and fit the GAM model with cubic splines\n",
    "    gam = LinearGAM(s(0, spline_order = 1)).fit(bs_temp['bp'], bs_temp['dnam'])\n",
    "\n",
    "    # Make predictions on the test set\n",
    "    y_pred = affine(gam.predict(bs_temp['bp'])) # this is my proxy for uncontaminated Y\n",
    "\n",
    "    # Evaluate the model \n",
    "    mse[i] = np.std(gam.deviance_residuals(bs_temp['bp'], bs_temp['dnam']))\n",
    "    \n",
    "    # Fisher information\n",
    "    fisher_information = fisher_inf(y_pred)\n",
    "    \n",
    "    # Bound of error variance\n",
    "    bound[i] = (np.exp(2*estimator(np.column_stack((bs_temp['bp'], bs_temp['dnam'])))[0]) - 1)/fisher_information \n",
    "    \n",
    "print(np.round(np.percentile(bound-mse, [2.5, 50, 97.5]), 3))\n",
    "print(np.round(np.percentile(bound-mse, [5]), 3))"
   ]
  },
  {
   "cell_type": "markdown",
   "id": "6601cbd0-3a72-4cf9-8417-7760a043d449",
   "metadata": {
    "jp-MarkdownHeadingCollapsed": true,
    "tags": []
   },
   "source": [
    "## ARHGAP42"
   ]
  },
  {
   "cell_type": "code",
   "execution_count": 26,
   "id": "11f635ac-55ad-488e-8125-c934c0d5bb5a",
   "metadata": {},
   "outputs": [],
   "source": [
    "dnam = pd.read_csv(\"/home/soumikp/enar_2023/data/dat_ARHGAP42.csv\").iloc[:,1:44].mean(axis=1)\n",
    "folio = pd.read_csv(\"/home/soumikp/enar_2023/data/dat_ARHGAP42.csv\").iloc[:,45]\n",
    "data = pd.concat([folio, dnam], axis=1)\n",
    "data = pd.merge(data, bps, on = 'foliocc', how='inner').dropna()\n",
    "data.columns = ['id', 'dnam', 'sex', 'bps', 'bpd']\n",
    "data_m = data[data['sex'] == 0]\n",
    "data_f = data[data['sex'] == 1]"
   ]
  },
  {
   "cell_type": "markdown",
   "id": "63f42789-0c94-465b-9503-7beb02872201",
   "metadata": {
    "jp-MarkdownHeadingCollapsed": true,
    "tags": []
   },
   "source": [
    "### Estimates of BPS vs DNAm for females"
   ]
  },
  {
   "cell_type": "code",
   "execution_count": 27,
   "id": "3858d3ec-5437-44e4-a9da-bafa9b0d899a",
   "metadata": {},
   "outputs": [
    {
     "name": "stdout",
     "output_type": "stream",
     "text": [
      "[-0.827 -0.108  0.262]\n",
      "[-0.281]\n"
     ]
    }
   ],
   "source": [
    "temp = data_f\n",
    "temp['bp'] = temp['bps']\n",
    "\n",
    "np.random.seed(42)\n",
    "niter = 250\n",
    "mse = np.zeros(niter)\n",
    "bound = np.zeros(niter)\n",
    "\n",
    "for i in range(niter):\n",
    "    bs_temp = temp.sample(n = len(temp), replace = True)\n",
    "    bs_temp['bp'] = affine(bs_temp['bp'])\n",
    "    bs_temp['dnam'] = affine(bs_temp['dnam'])\n",
    "    \n",
    "    # Create and fit the GAM model with cubic splines\n",
    "    gam = LinearGAM(s(0, spline_order = 1)).fit(bs_temp['bp'], bs_temp['dnam'])\n",
    "\n",
    "    # Make predictions on the test set\n",
    "    y_pred = affine(gam.predict(bs_temp['bp'])) # this is my proxy for uncontaminated Y\n",
    "\n",
    "    # Evaluate the model \n",
    "    mse[i] = np.std(gam.deviance_residuals(bs_temp['bp'], bs_temp['dnam']))\n",
    "    \n",
    "    # Fisher information\n",
    "    fisher_information = fisher_inf(y_pred)\n",
    "    \n",
    "    # Bound of error variance\n",
    "    bound[i] = (np.exp(2*estimator(np.column_stack((bs_temp['bp'], bs_temp['dnam'])))[0]) - 1)/fisher_information \n",
    "    \n",
    "print(np.round(np.percentile(bound-mse, [2.5, 50, 97.5]), 3))\n",
    "print(np.round(np.percentile(bound-mse, [5]), 3))"
   ]
  },
  {
   "cell_type": "markdown",
   "id": "14fc9a5f-14ca-4bd7-955c-9281d73fd74b",
   "metadata": {
    "jp-MarkdownHeadingCollapsed": true,
    "tags": []
   },
   "source": [
    "### Estimates of BPS vs DNAm for males"
   ]
  },
  {
   "cell_type": "code",
   "execution_count": 28,
   "id": "ed3d5ec8-5015-4add-8720-0b19c319eb2f",
   "metadata": {},
   "outputs": [
    {
     "name": "stdout",
     "output_type": "stream",
     "text": [
      "[-0.191 -0.157 -0.101]\n",
      "[-0.184]\n"
     ]
    }
   ],
   "source": [
    "temp = data_m\n",
    "temp['bp'] = temp['bps']\n",
    "\n",
    "np.random.seed(42)\n",
    "niter = 250\n",
    "mse = np.zeros(niter)\n",
    "bound = np.zeros(niter)\n",
    "\n",
    "for i in range(niter):\n",
    "    bs_temp = temp.sample(n = len(temp), replace = True)\n",
    "    bs_temp['bp'] = affine(bs_temp['bp'])\n",
    "    bs_temp['dnam'] = affine(bs_temp['dnam'])\n",
    "    \n",
    "    # Create and fit the GAM model with cubic splines\n",
    "    gam = LinearGAM(s(0, spline_order = 1)).fit(bs_temp['bp'], bs_temp['dnam'])\n",
    "\n",
    "    # Make predictions on the test set\n",
    "    y_pred = affine(gam.predict(bs_temp['bp'])) # this is my proxy for uncontaminated Y\n",
    "\n",
    "    # Evaluate the model \n",
    "    mse[i] = np.std(gam.deviance_residuals(bs_temp['bp'], bs_temp['dnam']))\n",
    "    \n",
    "    # Fisher information\n",
    "    fisher_information = fisher_inf(y_pred)\n",
    "    \n",
    "    # Bound of error variance\n",
    "    bound[i] = (np.exp(2*estimator(np.column_stack((bs_temp['bp'], bs_temp['dnam'])))[0]) - 1)/fisher_information \n",
    "    \n",
    "print(np.round(np.percentile(bound-mse, [2.5, 50, 97.5]), 3))\n",
    "print(np.round(np.percentile(bound-mse, [5]), 3))"
   ]
  },
  {
   "cell_type": "markdown",
   "id": "ffa3b64b-a839-496c-befc-c57d292691e5",
   "metadata": {
    "jp-MarkdownHeadingCollapsed": true,
    "tags": []
   },
   "source": [
    "### Estimates of BPS vs DNAm for combined"
   ]
  },
  {
   "cell_type": "code",
   "execution_count": 29,
   "id": "e4617718-94bb-4851-b455-7740b205bef8",
   "metadata": {},
   "outputs": [
    {
     "name": "stdout",
     "output_type": "stream",
     "text": [
      "[-0.175 -0.116 -0.008]\n",
      "[-0.166]\n"
     ]
    }
   ],
   "source": [
    "temp = data\n",
    "temp['bp'] = temp['bps']\n",
    "\n",
    "np.random.seed(42)\n",
    "niter = 250\n",
    "mse = np.zeros(niter)\n",
    "bound = np.zeros(niter)\n",
    "\n",
    "for i in range(niter):\n",
    "    bs_temp = temp.sample(n = len(temp), replace = True)\n",
    "    bs_temp['bp'] = affine(bs_temp['bp'])\n",
    "    bs_temp['dnam'] = affine(bs_temp['dnam'])\n",
    "    \n",
    "    # Create and fit the GAM model with cubic splines\n",
    "    gam = LinearGAM(s(0, spline_order = 1)).fit(bs_temp['bp'], bs_temp['dnam'])\n",
    "\n",
    "    # Make predictions on the test set\n",
    "    y_pred = affine(gam.predict(bs_temp['bp'])) # this is my proxy for uncontaminated Y\n",
    "\n",
    "    # Evaluate the model \n",
    "    mse[i] = np.std(gam.deviance_residuals(bs_temp['bp'], bs_temp['dnam']))\n",
    "    \n",
    "    # Fisher information\n",
    "    fisher_information = fisher_inf(y_pred)\n",
    "    \n",
    "    # Bound of error variance\n",
    "    bound[i] = (np.exp(2*estimator(np.column_stack((bs_temp['bp'], bs_temp['dnam'])))[0]) - 1)/fisher_information \n",
    "    \n",
    "print(np.round(np.percentile(bound-mse, [2.5, 50, 97.5]), 3))\n",
    "print(np.round(np.percentile(bound-mse, [5]), 3))"
   ]
  },
  {
   "cell_type": "markdown",
   "id": "26e38758-a42b-4adc-ae52-9d067f73c1bc",
   "metadata": {
    "jp-MarkdownHeadingCollapsed": true,
    "tags": []
   },
   "source": [
    "### Estimates of BPD vs DNAm for females"
   ]
  },
  {
   "cell_type": "code",
   "execution_count": 31,
   "id": "b68415ca-d1ba-4b28-9a91-4448102bcca9",
   "metadata": {},
   "outputs": [
    {
     "name": "stdout",
     "output_type": "stream",
     "text": [
      "[-0.896 -0.113  0.523]\n",
      "[-0.433]\n"
     ]
    }
   ],
   "source": [
    "temp = data_f\n",
    "temp['bp'] = temp['bpd']\n",
    "\n",
    "np.random.seed(42)\n",
    "niter = 250\n",
    "mse = np.zeros(niter)\n",
    "bound = np.zeros(niter)\n",
    "\n",
    "for i in range(niter):\n",
    "    bs_temp = temp.sample(n = len(temp), replace = True)\n",
    "    bs_temp['bp'] = affine(bs_temp['bp'])\n",
    "    bs_temp['dnam'] = affine(bs_temp['dnam'])\n",
    "    \n",
    "    # Create and fit the GAM model with cubic splines\n",
    "    gam = LinearGAM(s(0, spline_order = 1)).fit(bs_temp['bp'], bs_temp['dnam'])\n",
    "\n",
    "    # Make predictions on the test set\n",
    "    y_pred = affine(gam.predict(bs_temp['bp'])) # this is my proxy for uncontaminated Y\n",
    "\n",
    "    # Evaluate the model \n",
    "    mse[i] = np.std(gam.deviance_residuals(bs_temp['bp'], bs_temp['dnam']))\n",
    "    \n",
    "    # Fisher information\n",
    "    fisher_information = fisher_inf(y_pred)\n",
    "    \n",
    "    # Bound of error variance\n",
    "    bound[i] = (np.exp(2*estimator(np.column_stack((bs_temp['bp'], bs_temp['dnam'])))[0]) - 1)/fisher_information \n",
    "    \n",
    "print(np.round(np.percentile(bound-mse, [2.5, 50, 97.5]), 3))\n",
    "print(np.round(np.percentile(bound-mse, [5]), 3))"
   ]
  },
  {
   "cell_type": "markdown",
   "id": "131f3e10-a25b-4199-8f30-08efffda3f12",
   "metadata": {
    "jp-MarkdownHeadingCollapsed": true,
    "tags": []
   },
   "source": [
    "### Estimates of BPD vs DNAm for males"
   ]
  },
  {
   "cell_type": "code",
   "execution_count": 32,
   "id": "9b2ec0fa-133c-4a5e-bdfc-e76ac74e1e7b",
   "metadata": {},
   "outputs": [
    {
     "name": "stdout",
     "output_type": "stream",
     "text": [
      "[-0.226 -0.167 -0.026]\n",
      "[-0.207]\n"
     ]
    }
   ],
   "source": [
    "temp = data_m\n",
    "temp['bp'] = temp['bpd']\n",
    "\n",
    "np.random.seed(42)\n",
    "niter = 250\n",
    "mse = np.zeros(niter)\n",
    "bound = np.zeros(niter)\n",
    "\n",
    "for i in range(niter):\n",
    "    bs_temp = temp.sample(n = len(temp), replace = True)\n",
    "    bs_temp['bp'] = affine(bs_temp['bp'])\n",
    "    bs_temp['dnam'] = affine(bs_temp['dnam'])\n",
    "    \n",
    "    # Create and fit the GAM model with cubic splines\n",
    "    gam = LinearGAM(s(0, spline_order = 1)).fit(bs_temp['bp'], bs_temp['dnam'])\n",
    "\n",
    "    # Make predictions on the test set\n",
    "    y_pred = affine(gam.predict(bs_temp['bp'])) # this is my proxy for uncontaminated Y\n",
    "\n",
    "    # Evaluate the model \n",
    "    mse[i] = np.std(gam.deviance_residuals(bs_temp['bp'], bs_temp['dnam']))\n",
    "    \n",
    "    # Fisher information\n",
    "    fisher_information = fisher_inf(y_pred)\n",
    "    \n",
    "    # Bound of error variance\n",
    "    bound[i] = (np.exp(2*estimator(np.column_stack((bs_temp['bp'], bs_temp['dnam'])))[0]) - 1)/fisher_information \n",
    "    \n",
    "print(np.round(np.percentile(bound-mse, [2.5, 50, 97.5]), 3))\n",
    "print(np.round(np.percentile(bound-mse, [5]), 3))"
   ]
  },
  {
   "cell_type": "markdown",
   "id": "31ca5459-b70b-4d05-bb92-9fd8ade9d0ad",
   "metadata": {
    "jp-MarkdownHeadingCollapsed": true,
    "tags": []
   },
   "source": [
    "### Estimates of BPD vs DNAm for combined"
   ]
  },
  {
   "cell_type": "code",
   "execution_count": 33,
   "id": "e580a3d2-5d77-4616-9d10-b0b286dbdeb9",
   "metadata": {},
   "outputs": [
    {
     "name": "stdout",
     "output_type": "stream",
     "text": [
      "[-0.566 -0.122  0.186]\n",
      "[-0.252]\n"
     ]
    }
   ],
   "source": [
    "temp = data\n",
    "temp['bp'] = temp['bpd']\n",
    "\n",
    "np.random.seed(42)\n",
    "niter = 250\n",
    "mse = np.zeros(niter)\n",
    "bound = np.zeros(niter)\n",
    "\n",
    "for i in range(niter):\n",
    "    bs_temp = temp.sample(n = len(temp), replace = True)\n",
    "    bs_temp['bp'] = affine(bs_temp['bp'])\n",
    "    bs_temp['dnam'] = affine(bs_temp['dnam'])\n",
    "    \n",
    "    # Create and fit the GAM model with cubic splines\n",
    "    gam = LinearGAM(s(0, spline_order = 1)).fit(bs_temp['bp'], bs_temp['dnam'])\n",
    "\n",
    "    # Make predictions on the test set\n",
    "    y_pred = affine(gam.predict(bs_temp['bp'])) # this is my proxy for uncontaminated Y\n",
    "\n",
    "    # Evaluate the model \n",
    "    mse[i] = np.std(gam.deviance_residuals(bs_temp['bp'], bs_temp['dnam']))\n",
    "    \n",
    "    # Fisher information\n",
    "    fisher_information = fisher_inf(y_pred)\n",
    "    \n",
    "    # Bound of error variance\n",
    "    bound[i] = (np.exp(2*estimator(np.column_stack((bs_temp['bp'], bs_temp['dnam'])))[0]) - 1)/fisher_information \n",
    "    \n",
    "print(np.round(np.percentile(bound-mse, [2.5, 50, 97.5]), 3))\n",
    "print(np.round(np.percentile(bound-mse, [5]), 3))"
   ]
  },
  {
   "cell_type": "markdown",
   "id": "cb3f0424-c0f1-46a0-ae0a-3a822066be37",
   "metadata": {
    "jp-MarkdownHeadingCollapsed": true,
    "tags": []
   },
   "source": [
    "## ATP2B1"
   ]
  },
  {
   "cell_type": "code",
   "execution_count": 35,
   "id": "4dac8185-e949-4ef7-8124-80138c9ab128",
   "metadata": {},
   "outputs": [],
   "source": [
    "dnam = pd.read_csv(\"/home/soumikp/enar_2023/data/dat_ATP2B1.csv\").iloc[:,1:22].mean(axis=1)\n",
    "folio = pd.read_csv(\"/home/soumikp/enar_2023/data/dat_ATP2B1.csv\").iloc[:,23]\n",
    "data = pd.concat([folio, dnam], axis=1)\n",
    "data = pd.merge(data, bps, on = 'foliocc', how='inner').dropna()\n",
    "data.columns = ['id', 'dnam', 'sex', 'bps', 'bpd']\n",
    "data_m = data[data['sex'] == 0]\n",
    "data_f = data[data['sex'] == 1]"
   ]
  },
  {
   "cell_type": "markdown",
   "id": "233339f7-395a-40cd-b052-b239b100b68c",
   "metadata": {
    "jp-MarkdownHeadingCollapsed": true,
    "tags": []
   },
   "source": [
    "### Estimates of BPS vs DNAm for females"
   ]
  },
  {
   "cell_type": "code",
   "execution_count": 36,
   "id": "bd18be08-09e7-4ea3-88ed-799c678930b6",
   "metadata": {},
   "outputs": [
    {
     "name": "stdout",
     "output_type": "stream",
     "text": [
      "[-0.284 -0.106  0.163]\n",
      "[-0.221]\n"
     ]
    }
   ],
   "source": [
    "temp = data_f\n",
    "temp['bp'] = temp['bps']\n",
    "\n",
    "np.random.seed(42)\n",
    "niter = 250\n",
    "mse = np.zeros(niter)\n",
    "bound = np.zeros(niter)\n",
    "\n",
    "for i in range(niter):\n",
    "    bs_temp = temp.sample(n = len(temp), replace = True)\n",
    "    bs_temp['bp'] = affine(bs_temp['bp'])\n",
    "    bs_temp['dnam'] = affine(bs_temp['dnam'])\n",
    "    \n",
    "    # Create and fit the GAM model with cubic splines\n",
    "    gam = LinearGAM(s(0, spline_order = 1)).fit(bs_temp['bp'], bs_temp['dnam'])\n",
    "\n",
    "    # Make predictions on the test set\n",
    "    y_pred = affine(gam.predict(bs_temp['bp'])) # this is my proxy for uncontaminated Y\n",
    "\n",
    "    # Evaluate the model \n",
    "    mse[i] = np.std(gam.deviance_residuals(bs_temp['bp'], bs_temp['dnam']))\n",
    "    \n",
    "    # Fisher information\n",
    "    fisher_information = fisher_inf(y_pred)\n",
    "    \n",
    "    # Bound of error variance\n",
    "    bound[i] = (np.exp(2*estimator(np.column_stack((bs_temp['bp'], bs_temp['dnam'])))[0]) - 1)/fisher_information \n",
    "    \n",
    "print(np.round(np.percentile(bound-mse, [2.5, 50, 97.5]), 3))\n",
    "print(np.round(np.percentile(bound-mse, [5]), 3))"
   ]
  },
  {
   "cell_type": "markdown",
   "id": "8e99c46d-1461-4f17-98f0-14b063c13b08",
   "metadata": {
    "jp-MarkdownHeadingCollapsed": true,
    "tags": []
   },
   "source": [
    "### Estimates of BPS vs DNAm for males"
   ]
  },
  {
   "cell_type": "code",
   "execution_count": 37,
   "id": "f2b03c26-1af5-49fe-a3d8-0e47e742cd27",
   "metadata": {},
   "outputs": [
    {
     "name": "stdout",
     "output_type": "stream",
     "text": [
      "[-0.184 -0.103  0.16 ]\n",
      "[-0.163]\n"
     ]
    }
   ],
   "source": [
    "temp = data_m\n",
    "temp['bp'] = temp['bps']\n",
    "\n",
    "np.random.seed(42)\n",
    "niter = 250\n",
    "mse = np.zeros(niter)\n",
    "bound = np.zeros(niter)\n",
    "\n",
    "for i in range(niter):\n",
    "    bs_temp = temp.sample(n = len(temp), replace = True)\n",
    "    bs_temp['bp'] = affine(bs_temp['bp'])\n",
    "    bs_temp['dnam'] = affine(bs_temp['dnam'])\n",
    "    \n",
    "    # Create and fit the GAM model with cubic splines\n",
    "    gam = LinearGAM(s(0, spline_order = 1)).fit(bs_temp['bp'], bs_temp['dnam'])\n",
    "\n",
    "    # Make predictions on the test set\n",
    "    y_pred = affine(gam.predict(bs_temp['bp'])) # this is my proxy for uncontaminated Y\n",
    "\n",
    "    # Evaluate the model \n",
    "    mse[i] = np.std(gam.deviance_residuals(bs_temp['bp'], bs_temp['dnam']))\n",
    "    \n",
    "    # Fisher information\n",
    "    fisher_information = fisher_inf(y_pred)\n",
    "    \n",
    "    # Bound of error variance\n",
    "    bound[i] = (np.exp(2*estimator(np.column_stack((bs_temp['bp'], bs_temp['dnam'])))[0]) - 1)/fisher_information \n",
    "    \n",
    "print(np.round(np.percentile(bound-mse, [2.5, 50, 97.5]), 3))\n",
    "print(np.round(np.percentile(bound-mse, [5]), 3))"
   ]
  },
  {
   "cell_type": "markdown",
   "id": "d88725da-d416-455c-a426-2930e46ec35f",
   "metadata": {
    "jp-MarkdownHeadingCollapsed": true,
    "tags": []
   },
   "source": [
    "### Estimates of BPS vs DNAm for combined"
   ]
  },
  {
   "cell_type": "code",
   "execution_count": 38,
   "id": "da92a429-3076-4be5-afe8-9f4c8372bc43",
   "metadata": {},
   "outputs": [
    {
     "name": "stdout",
     "output_type": "stream",
     "text": [
      "[-1.156 -0.091  0.121]\n",
      "[-0.49]\n"
     ]
    }
   ],
   "source": [
    "temp = data\n",
    "temp['bp'] = temp['bps']\n",
    "\n",
    "np.random.seed(42)\n",
    "niter = 250\n",
    "mse = np.zeros(niter)\n",
    "bound = np.zeros(niter)\n",
    "\n",
    "for i in range(niter):\n",
    "    bs_temp = temp.sample(n = len(temp), replace = True)\n",
    "    bs_temp['bp'] = affine(bs_temp['bp'])\n",
    "    bs_temp['dnam'] = affine(bs_temp['dnam'])\n",
    "    \n",
    "    # Create and fit the GAM model with cubic splines\n",
    "    gam = LinearGAM(s(0, spline_order = 1)).fit(bs_temp['bp'], bs_temp['dnam'])\n",
    "\n",
    "    # Make predictions on the test set\n",
    "    y_pred = affine(gam.predict(bs_temp['bp'])) # this is my proxy for uncontaminated Y\n",
    "\n",
    "    # Evaluate the model \n",
    "    mse[i] = np.std(gam.deviance_residuals(bs_temp['bp'], bs_temp['dnam']))\n",
    "    \n",
    "    # Fisher information\n",
    "    fisher_information = fisher_inf(y_pred)\n",
    "    \n",
    "    # Bound of error variance\n",
    "    bound[i] = (np.exp(2*estimator(np.column_stack((bs_temp['bp'], bs_temp['dnam'])))[0]) - 1)/fisher_information \n",
    "    \n",
    "print(np.round(np.percentile(bound-mse, [2.5, 50, 97.5]), 3))\n",
    "print(np.round(np.percentile(bound-mse, [5]), 3))"
   ]
  },
  {
   "cell_type": "markdown",
   "id": "d4b7f077-4604-43fc-99ce-c2d4b5aa8556",
   "metadata": {
    "jp-MarkdownHeadingCollapsed": true,
    "tags": []
   },
   "source": [
    "### Estimates of BPD vs DNAm for females"
   ]
  },
  {
   "cell_type": "code",
   "execution_count": 39,
   "id": "1ca631bb-cb8b-49ba-8a20-2ee2a8459660",
   "metadata": {},
   "outputs": [
    {
     "name": "stdout",
     "output_type": "stream",
     "text": [
      "[-0.893 -0.11   0.104]\n",
      "[-0.228]\n"
     ]
    }
   ],
   "source": [
    "temp = data_f\n",
    "temp['bp'] = temp['bpd']\n",
    "\n",
    "np.random.seed(42)\n",
    "niter = 250\n",
    "mse = np.zeros(niter)\n",
    "bound = np.zeros(niter)\n",
    "\n",
    "for i in range(niter):\n",
    "    bs_temp = temp.sample(n = len(temp), replace = True)\n",
    "    bs_temp['bp'] = affine(bs_temp['bp'])\n",
    "    bs_temp['dnam'] = affine(bs_temp['dnam'])\n",
    "    \n",
    "    # Create and fit the GAM model with cubic splines\n",
    "    gam = LinearGAM(s(0, spline_order = 1)).fit(bs_temp['bp'], bs_temp['dnam'])\n",
    "\n",
    "    # Make predictions on the test set\n",
    "    y_pred = affine(gam.predict(bs_temp['bp'])) # this is my proxy for uncontaminated Y\n",
    "\n",
    "    # Evaluate the model \n",
    "    mse[i] = np.std(gam.deviance_residuals(bs_temp['bp'], bs_temp['dnam']))\n",
    "    \n",
    "    # Fisher information\n",
    "    fisher_information = fisher_inf(y_pred)\n",
    "    \n",
    "    # Bound of error variance\n",
    "    bound[i] = (np.exp(2*estimator(np.column_stack((bs_temp['bp'], bs_temp['dnam'])))[0]) - 1)/fisher_information \n",
    "    \n",
    "print(np.round(np.percentile(bound-mse, [2.5, 50, 97.5]), 3))\n",
    "print(np.round(np.percentile(bound-mse, [5]), 3))"
   ]
  },
  {
   "cell_type": "markdown",
   "id": "05234d30-50ef-42f3-b46d-ab4a018bc5ff",
   "metadata": {
    "jp-MarkdownHeadingCollapsed": true,
    "tags": []
   },
   "source": [
    "### Estimates of BPD vs DNAm for males"
   ]
  },
  {
   "cell_type": "code",
   "execution_count": 40,
   "id": "2ffbdf50-bf5f-41e7-9fed-7c4ab0e4a956",
   "metadata": {},
   "outputs": [
    {
     "name": "stdout",
     "output_type": "stream",
     "text": [
      "[-1.063 -0.105  0.352]\n",
      "[-0.178]\n"
     ]
    }
   ],
   "source": [
    "temp = data_m\n",
    "temp['bp'] = temp['bpd']\n",
    "\n",
    "np.random.seed(42)\n",
    "niter = 250\n",
    "mse = np.zeros(niter)\n",
    "bound = np.zeros(niter)\n",
    "\n",
    "for i in range(niter):\n",
    "    bs_temp = temp.sample(n = len(temp), replace = True)\n",
    "    bs_temp['bp'] = affine(bs_temp['bp'])\n",
    "    bs_temp['dnam'] = affine(bs_temp['dnam'])\n",
    "    \n",
    "    # Create and fit the GAM model with cubic splines\n",
    "    gam = LinearGAM(s(0, spline_order = 1)).fit(bs_temp['bp'], bs_temp['dnam'])\n",
    "\n",
    "    # Make predictions on the test set\n",
    "    y_pred = affine(gam.predict(bs_temp['bp'])) # this is my proxy for uncontaminated Y\n",
    "\n",
    "    # Evaluate the model \n",
    "    mse[i] = np.std(gam.deviance_residuals(bs_temp['bp'], bs_temp['dnam']))\n",
    "    \n",
    "    # Fisher information\n",
    "    fisher_information = fisher_inf(y_pred)\n",
    "    \n",
    "    # Bound of error variance\n",
    "    bound[i] = (np.exp(2*estimator(np.column_stack((bs_temp['bp'], bs_temp['dnam'])))[0]) - 1)/fisher_information \n",
    "    \n",
    "print(np.round(np.percentile(bound-mse, [2.5, 50, 97.5]), 3))\n",
    "print(np.round(np.percentile(bound-mse, [5]), 3))"
   ]
  },
  {
   "cell_type": "markdown",
   "id": "56b32708-556e-4279-a4ad-0801176d4fc4",
   "metadata": {
    "tags": []
   },
   "source": [
    "### Estimates of BPD vs DNAm for combined"
   ]
  },
  {
   "cell_type": "code",
   "execution_count": 41,
   "id": "9adfc9c3-e57f-485a-8771-cd39ee19bcc7",
   "metadata": {},
   "outputs": [
    {
     "name": "stdout",
     "output_type": "stream",
     "text": [
      "[-2.279 -0.103  0.261]\n",
      "[-1.483]\n"
     ]
    }
   ],
   "source": [
    "temp = data\n",
    "temp['bp'] = temp['bpd']\n",
    "\n",
    "np.random.seed(42)\n",
    "niter = 250\n",
    "mse = np.zeros(niter)\n",
    "bound = np.zeros(niter)\n",
    "\n",
    "for i in range(niter):\n",
    "    bs_temp = temp.sample(n = len(temp), replace = True)\n",
    "    bs_temp['bp'] = affine(bs_temp['bp'])\n",
    "    bs_temp['dnam'] = affine(bs_temp['dnam'])\n",
    "    \n",
    "    # Create and fit the GAM model with cubic splines\n",
    "    gam = LinearGAM(s(0, spline_order = 1)).fit(bs_temp['bp'], bs_temp['dnam'])\n",
    "\n",
    "    # Make predictions on the test set\n",
    "    y_pred = affine(gam.predict(bs_temp['bp'])) # this is my proxy for uncontaminated Y\n",
    "\n",
    "    # Evaluate the model \n",
    "    mse[i] = np.std(gam.deviance_residuals(bs_temp['bp'], bs_temp['dnam']))\n",
    "    \n",
    "    # Fisher information\n",
    "    fisher_information = fisher_inf(y_pred)\n",
    "    \n",
    "    # Bound of error variance\n",
    "    bound[i] = (np.exp(2*estimator(np.column_stack((bs_temp['bp'], bs_temp['dnam'])))[0]) - 1)/fisher_information \n",
    "    \n",
    "print(np.round(np.percentile(bound-mse, [2.5, 50, 97.5]), 3))\n",
    "print(np.round(np.percentile(bound-mse, [5]), 3))"
   ]
  },
  {
   "cell_type": "markdown",
   "id": "19a3a87c-0c8f-440b-a63d-3f8be0598ce9",
   "metadata": {
    "jp-MarkdownHeadingCollapsed": true,
    "tags": []
   },
   "source": [
    "## KCNK3"
   ]
  },
  {
   "cell_type": "code",
   "execution_count": 43,
   "id": "4ea40c42-cc7e-4de4-b2e7-86c042d7d2de",
   "metadata": {},
   "outputs": [],
   "source": [
    "dnam = pd.read_csv(\"/home/soumikp/enar_2023/data/dat_KCNK3.csv\").iloc[:,1:36].mean(axis=1)\n",
    "folio = pd.read_csv(\"/home/soumikp/enar_2023/data/dat_KCNK3.csv\").iloc[:,37]\n",
    "data = pd.concat([folio, dnam], axis=1)\n",
    "data = pd.merge(data, bps, on = 'foliocc', how='inner').dropna()\n",
    "data.columns = ['id', 'dnam', 'sex', 'bps', 'bpd']\n",
    "data_m = data[data['sex'] == 0]\n",
    "data_f = data[data['sex'] == 1]"
   ]
  },
  {
   "cell_type": "markdown",
   "id": "060bd96e-10f8-4dc1-b8e4-3a3aad96da08",
   "metadata": {
    "jp-MarkdownHeadingCollapsed": true,
    "tags": []
   },
   "source": [
    "### Estimates of BPS vs DNAm for females"
   ]
  },
  {
   "cell_type": "code",
   "execution_count": 44,
   "id": "d20ae636-4d85-43b7-8c1e-7169ac6d28cb",
   "metadata": {},
   "outputs": [
    {
     "name": "stdout",
     "output_type": "stream",
     "text": [
      "[-0.195 -0.075  0.094]\n",
      "[-0.183]\n"
     ]
    }
   ],
   "source": [
    "temp = data_f\n",
    "temp['bp'] = temp['bps']\n",
    "\n",
    "np.random.seed(42)\n",
    "niter = 250\n",
    "mse = np.zeros(niter)\n",
    "bound = np.zeros(niter)\n",
    "\n",
    "for i in range(niter):\n",
    "    bs_temp = temp.sample(n = len(temp), replace = True)\n",
    "    bs_temp['bp'] = affine(bs_temp['bp'])\n",
    "    bs_temp['dnam'] = affine(bs_temp['dnam'])\n",
    "    \n",
    "    # Create and fit the GAM model with cubic splines\n",
    "    gam = LinearGAM(s(0, spline_order = 1)).fit(bs_temp['bp'], bs_temp['dnam'])\n",
    "\n",
    "    # Make predictions on the test set\n",
    "    y_pred = affine(gam.predict(bs_temp['bp'])) # this is my proxy for uncontaminated Y\n",
    "\n",
    "    # Evaluate the model \n",
    "    mse[i] = np.std(gam.deviance_residuals(bs_temp['bp'], bs_temp['dnam']))\n",
    "    \n",
    "    # Fisher information\n",
    "    fisher_information = fisher_inf(y_pred)\n",
    "    \n",
    "    # Bound of error variance\n",
    "    bound[i] = (np.exp(2*estimator(np.column_stack((bs_temp['bp'], bs_temp['dnam'])))[0]) - 1)/fisher_information \n",
    "    \n",
    "print(np.round(np.percentile(bound-mse, [2.5, 50, 97.5]), 3))\n",
    "print(np.round(np.percentile(bound-mse, [5]), 3))"
   ]
  },
  {
   "cell_type": "markdown",
   "id": "2be1bf7b-52c3-4150-926e-50d5c957117c",
   "metadata": {
    "jp-MarkdownHeadingCollapsed": true,
    "tags": []
   },
   "source": [
    "### Estimates of BPS vs DNAm for males"
   ]
  },
  {
   "cell_type": "code",
   "execution_count": 45,
   "id": "c83d32de-6042-4710-b916-96d543dcdf72",
   "metadata": {},
   "outputs": [
    {
     "name": "stdout",
     "output_type": "stream",
     "text": [
      "[-0.195 -0.075  0.094]\n",
      "[-0.183]\n"
     ]
    }
   ],
   "source": [
    "temp = data_f\n",
    "temp['bp'] = temp['bps']\n",
    "\n",
    "np.random.seed(42)\n",
    "niter = 250\n",
    "mse = np.zeros(niter)\n",
    "bound = np.zeros(niter)\n",
    "\n",
    "for i in range(niter):\n",
    "    bs_temp = temp.sample(n = len(temp), replace = True)\n",
    "    bs_temp['bp'] = affine(bs_temp['bp'])\n",
    "    bs_temp['dnam'] = affine(bs_temp['dnam'])\n",
    "    \n",
    "    # Create and fit the GAM model with cubic splines\n",
    "    gam = LinearGAM(s(0, spline_order = 1)).fit(bs_temp['bp'], bs_temp['dnam'])\n",
    "\n",
    "    # Make predictions on the test set\n",
    "    y_pred = affine(gam.predict(bs_temp['bp'])) # this is my proxy for uncontaminated Y\n",
    "\n",
    "    # Evaluate the model \n",
    "    mse[i] = np.std(gam.deviance_residuals(bs_temp['bp'], bs_temp['dnam']))\n",
    "    \n",
    "    # Fisher information\n",
    "    fisher_information = fisher_inf(y_pred)\n",
    "    \n",
    "    # Bound of error variance\n",
    "    bound[i] = (np.exp(2*estimator(np.column_stack((bs_temp['bp'], bs_temp['dnam'])))[0]) - 1)/fisher_information \n",
    "    \n",
    "print(np.round(np.percentile(bound-mse, [2.5, 50, 97.5]), 3))\n",
    "print(np.round(np.percentile(bound-mse, [5]), 3))"
   ]
  },
  {
   "cell_type": "markdown",
   "id": "a04feea4-fca6-4d78-8778-c5bc0c1e9e89",
   "metadata": {
    "jp-MarkdownHeadingCollapsed": true,
    "tags": []
   },
   "source": [
    "### Estimates of BPS vs DNAm for combined"
   ]
  },
  {
   "cell_type": "code",
   "execution_count": 46,
   "id": "e89fadd3-0420-458d-b059-6fce7b88524d",
   "metadata": {},
   "outputs": [
    {
     "name": "stdout",
     "output_type": "stream",
     "text": [
      "[-0.161 -0.044  0.261]\n",
      "[-0.155]\n"
     ]
    }
   ],
   "source": [
    "temp = data\n",
    "temp['bp'] = temp['bps']\n",
    "\n",
    "np.random.seed(42)\n",
    "niter = 250\n",
    "mse = np.zeros(niter)\n",
    "bound = np.zeros(niter)\n",
    "\n",
    "for i in range(niter):\n",
    "    bs_temp = temp.sample(n = len(temp), replace = True)\n",
    "    bs_temp['bp'] = affine(bs_temp['bp'])\n",
    "    bs_temp['dnam'] = affine(bs_temp['dnam'])\n",
    "    \n",
    "    # Create and fit the GAM model with cubic splines\n",
    "    gam = LinearGAM(s(0, spline_order = 1)).fit(bs_temp['bp'], bs_temp['dnam'])\n",
    "\n",
    "    # Make predictions on the test set\n",
    "    y_pred = affine(gam.predict(bs_temp['bp'])) # this is my proxy for uncontaminated Y\n",
    "\n",
    "    # Evaluate the model \n",
    "    mse[i] = np.std(gam.deviance_residuals(bs_temp['bp'], bs_temp['dnam']))\n",
    "    \n",
    "    # Fisher information\n",
    "    fisher_information = fisher_inf(y_pred)\n",
    "    \n",
    "    # Bound of error variance\n",
    "    bound[i] = (np.exp(2*estimator(np.column_stack((bs_temp['bp'], bs_temp['dnam'])))[0]) - 1)/fisher_information \n",
    "    \n",
    "print(np.round(np.percentile(bound-mse, [2.5, 50, 97.5]), 3))\n",
    "print(np.round(np.percentile(bound-mse, [5]), 3))"
   ]
  },
  {
   "cell_type": "markdown",
   "id": "1d3fa474-6e07-4e59-95c9-63c71179e34d",
   "metadata": {
    "jp-MarkdownHeadingCollapsed": true,
    "tags": []
   },
   "source": [
    "### Estimates of BPD vs DNAm for females"
   ]
  },
  {
   "cell_type": "code",
   "execution_count": 47,
   "id": "7f0567a4-d8f4-4fbf-881a-8f62ab7dfa0b",
   "metadata": {},
   "outputs": [
    {
     "name": "stdout",
     "output_type": "stream",
     "text": [
      "[-0.353 -0.075  0.924]\n",
      "[-0.198]\n"
     ]
    }
   ],
   "source": [
    "temp = data_f\n",
    "temp['bp'] = temp['bpd']\n",
    "\n",
    "np.random.seed(42)\n",
    "niter = 250\n",
    "mse = np.zeros(niter)\n",
    "bound = np.zeros(niter)\n",
    "\n",
    "for i in range(niter):\n",
    "    bs_temp = temp.sample(n = len(temp), replace = True)\n",
    "    bs_temp['bp'] = affine(bs_temp['bp'])\n",
    "    bs_temp['dnam'] = affine(bs_temp['dnam'])\n",
    "    \n",
    "    # Create and fit the GAM model with cubic splines\n",
    "    gam = LinearGAM(s(0, spline_order = 1)).fit(bs_temp['bp'], bs_temp['dnam'])\n",
    "\n",
    "    # Make predictions on the test set\n",
    "    y_pred = affine(gam.predict(bs_temp['bp'])) # this is my proxy for uncontaminated Y\n",
    "\n",
    "    # Evaluate the model \n",
    "    mse[i] = np.std(gam.deviance_residuals(bs_temp['bp'], bs_temp['dnam']))\n",
    "    \n",
    "    # Fisher information\n",
    "    fisher_information = fisher_inf(y_pred)\n",
    "    \n",
    "    # Bound of error variance\n",
    "    bound[i] = (np.exp(2*estimator(np.column_stack((bs_temp['bp'], bs_temp['dnam'])))[0]) - 1)/fisher_information \n",
    "    \n",
    "print(np.round(np.percentile(bound-mse, [2.5, 50, 97.5]), 3))\n",
    "print(np.round(np.percentile(bound-mse, [5]), 3))"
   ]
  },
  {
   "cell_type": "markdown",
   "id": "c8c8c275-622d-41f8-90cc-c5b61c8736d3",
   "metadata": {
    "jp-MarkdownHeadingCollapsed": true,
    "tags": []
   },
   "source": [
    "### Estimates of BPD vs DNAm for males"
   ]
  },
  {
   "cell_type": "code",
   "execution_count": 48,
   "id": "e6d3dd74-1b38-4d2d-95ab-dbe55fc06fd0",
   "metadata": {},
   "outputs": [
    {
     "name": "stdout",
     "output_type": "stream",
     "text": [
      "[-0.186 -0.127 -0.004]\n",
      "[-0.177]\n"
     ]
    }
   ],
   "source": [
    "temp = data_m\n",
    "temp['bp'] = temp['bpd']\n",
    "\n",
    "np.random.seed(42)\n",
    "niter = 250\n",
    "mse = np.zeros(niter)\n",
    "bound = np.zeros(niter)\n",
    "\n",
    "for i in range(niter):\n",
    "    bs_temp = temp.sample(n = len(temp), replace = True)\n",
    "    bs_temp['bp'] = affine(bs_temp['bp'])\n",
    "    bs_temp['dnam'] = affine(bs_temp['dnam'])\n",
    "    \n",
    "    # Create and fit the GAM model with cubic splines\n",
    "    gam = LinearGAM(s(0, spline_order = 1)).fit(bs_temp['bp'], bs_temp['dnam'])\n",
    "\n",
    "    # Make predictions on the test set\n",
    "    y_pred = affine(gam.predict(bs_temp['bp'])) # this is my proxy for uncontaminated Y\n",
    "\n",
    "    # Evaluate the model \n",
    "    mse[i] = np.std(gam.deviance_residuals(bs_temp['bp'], bs_temp['dnam']))\n",
    "    \n",
    "    # Fisher information\n",
    "    fisher_information = fisher_inf(y_pred)\n",
    "    \n",
    "    # Bound of error variance\n",
    "    bound[i] = (np.exp(2*estimator(np.column_stack((bs_temp['bp'], bs_temp['dnam'])))[0]) - 1)/fisher_information \n",
    "    \n",
    "print(np.round(np.percentile(bound-mse, [2.5, 50, 97.5]), 3))\n",
    "print(np.round(np.percentile(bound-mse, [5]), 3))"
   ]
  },
  {
   "cell_type": "markdown",
   "id": "438dc643-366c-4ae5-a83c-8d11fcd6af7b",
   "metadata": {
    "jp-MarkdownHeadingCollapsed": true,
    "tags": []
   },
   "source": [
    "### Estimates of BPD vs DNAm for combined"
   ]
  },
  {
   "cell_type": "code",
   "execution_count": 49,
   "id": "240b205f-bc1a-4b57-9879-69539397a130",
   "metadata": {},
   "outputs": [
    {
     "name": "stdout",
     "output_type": "stream",
     "text": [
      "[-1.287 -0.073  0.625]\n",
      "[-0.176]\n"
     ]
    }
   ],
   "source": [
    "temp = data\n",
    "temp['bp'] = temp['bpd']\n",
    "\n",
    "np.random.seed(42)\n",
    "niter = 250\n",
    "mse = np.zeros(niter)\n",
    "bound = np.zeros(niter)\n",
    "\n",
    "for i in range(niter):\n",
    "    bs_temp = temp.sample(n = len(temp), replace = True)\n",
    "    bs_temp['bp'] = affine(bs_temp['bp'])\n",
    "    bs_temp['dnam'] = affine(bs_temp['dnam'])\n",
    "    \n",
    "    # Create and fit the GAM model with cubic splines\n",
    "    gam = LinearGAM(s(0, spline_order = 1)).fit(bs_temp['bp'], bs_temp['dnam'])\n",
    "\n",
    "    # Make predictions on the test set\n",
    "    y_pred = affine(gam.predict(bs_temp['bp'])) # this is my proxy for uncontaminated Y\n",
    "\n",
    "    # Evaluate the model \n",
    "    mse[i] = np.std(gam.deviance_residuals(bs_temp['bp'], bs_temp['dnam']))\n",
    "    \n",
    "    # Fisher information\n",
    "    fisher_information = fisher_inf(y_pred)\n",
    "    \n",
    "    # Bound of error variance\n",
    "    bound[i] = (np.exp(2*estimator(np.column_stack((bs_temp['bp'], bs_temp['dnam'])))[0]) - 1)/fisher_information \n",
    "    \n",
    "print(np.round(np.percentile(bound-mse, [2.5, 50, 97.5]), 3))\n",
    "print(np.round(np.percentile(bound-mse, [5]), 3))"
   ]
  },
  {
   "cell_type": "markdown",
   "id": "e6f68f21-5325-49c8-9358-72c235f8f207",
   "metadata": {},
   "source": [
    "## PRDM8"
   ]
  },
  {
   "cell_type": "code",
   "execution_count": 51,
   "id": "4cdf1c55-4142-4842-b14f-e8f0ea605ea4",
   "metadata": {},
   "outputs": [],
   "source": [
    "dnam = pd.read_csv(\"/home/soumikp/enar_2023/data/dat_PRDM8.csv\").iloc[:, 1:52].mean(axis=1)\n",
    "folio = pd.read_csv(\"/home/soumikp/enar_2023/data/dat_PRDM8.csv\").iloc[:,53]\n",
    "data = pd.concat([folio, dnam], axis=1)\n",
    "data = pd.merge(data, bps, on = 'foliocc', how='inner').dropna()\n",
    "data.columns = ['id', 'dnam', 'sex', 'bps', 'bpd']\n",
    "data_m = data[data['sex'] == 0]\n",
    "data_f = data[data['sex'] == 1]"
   ]
  },
  {
   "cell_type": "markdown",
   "id": "864777bb-83ca-424d-8d08-82d1c53671dd",
   "metadata": {
    "jp-MarkdownHeadingCollapsed": true,
    "tags": []
   },
   "source": [
    "### Estimates of BPS vs DNAm for females"
   ]
  },
  {
   "cell_type": "code",
   "execution_count": 52,
   "id": "942c58f7-d897-4424-9db3-16d23c55b2dd",
   "metadata": {},
   "outputs": [
    {
     "name": "stdout",
     "output_type": "stream",
     "text": [
      "[-0.75  -0.176  0.305]\n",
      "[-0.347]\n"
     ]
    }
   ],
   "source": [
    "temp = data_f\n",
    "temp['bp'] = temp['bps']\n",
    "\n",
    "np.random.seed(42)\n",
    "niter = 250\n",
    "mse = np.zeros(niter)\n",
    "bound = np.zeros(niter)\n",
    "\n",
    "for i in range(niter):\n",
    "    bs_temp = temp.sample(n = len(temp), replace = True)\n",
    "    bs_temp['bp'] = affine(bs_temp['bp'])\n",
    "    bs_temp['dnam'] = affine(bs_temp['dnam'])\n",
    "    \n",
    "    # Create and fit the GAM model with cubic splines\n",
    "    gam = LinearGAM(s(0, spline_order = 1)).fit(bs_temp['bp'], bs_temp['dnam'])\n",
    "\n",
    "    # Make predictions on the test set\n",
    "    y_pred = affine(gam.predict(bs_temp['bp'])) # this is my proxy for uncontaminated Y\n",
    "\n",
    "    # Evaluate the model \n",
    "    mse[i] = np.std(gam.deviance_residuals(bs_temp['bp'], bs_temp['dnam']))\n",
    "    \n",
    "    # Fisher information\n",
    "    fisher_information = fisher_inf(y_pred)\n",
    "    \n",
    "    # Bound of error variance\n",
    "    bound[i] = (np.exp(2*estimator(np.column_stack((bs_temp['bp'], bs_temp['dnam'])))[0]) - 1)/fisher_information \n",
    "    \n",
    "print(np.round(np.percentile(bound-mse, [2.5, 50, 97.5]), 3))\n",
    "print(np.round(np.percentile(bound-mse, [5]), 3))"
   ]
  },
  {
   "cell_type": "markdown",
   "id": "8ba1b8ab-d25b-4e7d-a968-dce3334aedb3",
   "metadata": {
    "jp-MarkdownHeadingCollapsed": true,
    "tags": []
   },
   "source": [
    "### Estimates of BPS vs DNAm for males"
   ]
  },
  {
   "cell_type": "code",
   "execution_count": 53,
   "id": "7f922895-5f79-4b8f-94d2-4b56de3fd780",
   "metadata": {},
   "outputs": [
    {
     "name": "stdout",
     "output_type": "stream",
     "text": [
      "[-0.214 -0.168 -0.091]\n",
      "[-0.2]\n"
     ]
    }
   ],
   "source": [
    "temp = data_m\n",
    "temp['bp'] = temp['bps']\n",
    "\n",
    "np.random.seed(42)\n",
    "niter = 250\n",
    "mse = np.zeros(niter)\n",
    "bound = np.zeros(niter)\n",
    "\n",
    "for i in range(niter):\n",
    "    bs_temp = temp.sample(n = len(temp), replace = True)\n",
    "    bs_temp['bp'] = affine(bs_temp['bp'])\n",
    "    bs_temp['dnam'] = affine(bs_temp['dnam'])\n",
    "    \n",
    "    # Create and fit the GAM model with cubic splines\n",
    "    gam = LinearGAM(s(0, spline_order = 1)).fit(bs_temp['bp'], bs_temp['dnam'])\n",
    "\n",
    "    # Make predictions on the test set\n",
    "    y_pred = affine(gam.predict(bs_temp['bp'])) # this is my proxy for uncontaminated Y\n",
    "\n",
    "    # Evaluate the model \n",
    "    mse[i] = np.std(gam.deviance_residuals(bs_temp['bp'], bs_temp['dnam']))\n",
    "    \n",
    "    # Fisher information\n",
    "    fisher_information = fisher_inf(y_pred)\n",
    "    \n",
    "    # Bound of error variance\n",
    "    bound[i] = (np.exp(2*estimator(np.column_stack((bs_temp['bp'], bs_temp['dnam'])))[0]) - 1)/fisher_information \n",
    "    \n",
    "print(np.round(np.percentile(bound-mse, [2.5, 50, 97.5]), 3))\n",
    "print(np.round(np.percentile(bound-mse, [5]), 3))"
   ]
  },
  {
   "cell_type": "markdown",
   "id": "30024917-414d-43b6-b61b-931a1090d893",
   "metadata": {
    "jp-MarkdownHeadingCollapsed": true,
    "tags": []
   },
   "source": [
    "### Estimates of BPS vs DNAm for combined"
   ]
  },
  {
   "cell_type": "code",
   "execution_count": 54,
   "id": "01debb5f-c52f-45e4-ac7c-7aac54306ae6",
   "metadata": {},
   "outputs": [
    {
     "name": "stdout",
     "output_type": "stream",
     "text": [
      "[-0.253 -0.173 -0.118]\n",
      "[-0.22]\n"
     ]
    }
   ],
   "source": [
    "temp = data\n",
    "temp['bp'] = temp['bps']\n",
    "\n",
    "np.random.seed(42)\n",
    "niter = 250\n",
    "mse = np.zeros(niter)\n",
    "bound = np.zeros(niter)\n",
    "\n",
    "for i in range(niter):\n",
    "    bs_temp = temp.sample(n = len(temp), replace = True)\n",
    "    bs_temp['bp'] = affine(bs_temp['bp'])\n",
    "    bs_temp['dnam'] = affine(bs_temp['dnam'])\n",
    "    \n",
    "    # Create and fit the GAM model with cubic splines\n",
    "    gam = LinearGAM(s(0, spline_order = 1)).fit(bs_temp['bp'], bs_temp['dnam'])\n",
    "\n",
    "    # Make predictions on the test set\n",
    "    y_pred = affine(gam.predict(bs_temp['bp'])) # this is my proxy for uncontaminated Y\n",
    "\n",
    "    # Evaluate the model \n",
    "    mse[i] = np.std(gam.deviance_residuals(bs_temp['bp'], bs_temp['dnam']))\n",
    "    \n",
    "    # Fisher information\n",
    "    fisher_information = fisher_inf(y_pred)\n",
    "    \n",
    "    # Bound of error variance\n",
    "    bound[i] = (np.exp(2*estimator(np.column_stack((bs_temp['bp'], bs_temp['dnam'])))[0]) - 1)/fisher_information \n",
    "    \n",
    "print(np.round(np.percentile(bound-mse, [2.5, 50, 97.5]), 3))\n",
    "print(np.round(np.percentile(bound-mse, [5]), 3))"
   ]
  },
  {
   "cell_type": "markdown",
   "id": "4f6212d3-550b-4c0b-91d8-f2264b9ef259",
   "metadata": {
    "jp-MarkdownHeadingCollapsed": true,
    "tags": []
   },
   "source": [
    "### Estimates of BPD vs DNAm for females"
   ]
  },
  {
   "cell_type": "code",
   "execution_count": 55,
   "id": "f77d4b44-483e-4d21-86a8-f8b70108855f",
   "metadata": {},
   "outputs": [
    {
     "name": "stdout",
     "output_type": "stream",
     "text": [
      "[-0.285 -0.178  0.361]\n",
      "[-0.241]\n"
     ]
    }
   ],
   "source": [
    "temp = data_f\n",
    "temp['bp'] = temp['bpd']\n",
    "\n",
    "np.random.seed(42)\n",
    "niter = 250\n",
    "mse = np.zeros(niter)\n",
    "bound = np.zeros(niter)\n",
    "\n",
    "for i in range(niter):\n",
    "    bs_temp = temp.sample(n = len(temp), replace = True)\n",
    "    bs_temp['bp'] = affine(bs_temp['bp'])\n",
    "    bs_temp['dnam'] = affine(bs_temp['dnam'])\n",
    "    \n",
    "    # Create and fit the GAM model with cubic splines\n",
    "    gam = LinearGAM(s(0, spline_order = 1)).fit(bs_temp['bp'], bs_temp['dnam'])\n",
    "\n",
    "    # Make predictions on the test set\n",
    "    y_pred = affine(gam.predict(bs_temp['bp'])) # this is my proxy for uncontaminated Y\n",
    "\n",
    "    # Evaluate the model \n",
    "    mse[i] = np.std(gam.deviance_residuals(bs_temp['bp'], bs_temp['dnam']))\n",
    "    \n",
    "    # Fisher information\n",
    "    fisher_information = fisher_inf(y_pred)\n",
    "    \n",
    "    # Bound of error variance\n",
    "    bound[i] = (np.exp(2*estimator(np.column_stack((bs_temp['bp'], bs_temp['dnam'])))[0]) - 1)/fisher_information \n",
    "    \n",
    "print(np.round(np.percentile(bound-mse, [2.5, 50, 97.5]), 3))\n",
    "print(np.round(np.percentile(bound-mse, [5]), 3))"
   ]
  },
  {
   "cell_type": "markdown",
   "id": "34a240fd-fcf0-4f0e-a48f-51fe3a351db6",
   "metadata": {
    "jp-MarkdownHeadingCollapsed": true,
    "tags": []
   },
   "source": [
    "### Estimates of BPD vs DNAm for males"
   ]
  },
  {
   "cell_type": "code",
   "execution_count": 56,
   "id": "dbcd680b-1c1d-4756-b815-e3044c519897",
   "metadata": {},
   "outputs": [
    {
     "name": "stdout",
     "output_type": "stream",
     "text": [
      "[-0.24  -0.181 -0.024]\n",
      "[-0.225]\n"
     ]
    }
   ],
   "source": [
    "temp = data_m\n",
    "temp['bp'] = temp['bpd']\n",
    "\n",
    "np.random.seed(42)\n",
    "niter = 250\n",
    "mse = np.zeros(niter)\n",
    "bound = np.zeros(niter)\n",
    "\n",
    "for i in range(niter):\n",
    "    bs_temp = temp.sample(n = len(temp), replace = True)\n",
    "    bs_temp['bp'] = affine(bs_temp['bp'])\n",
    "    bs_temp['dnam'] = affine(bs_temp['dnam'])\n",
    "    \n",
    "    # Create and fit the GAM model with cubic splines\n",
    "    gam = LinearGAM(s(0, spline_order = 1)).fit(bs_temp['bp'], bs_temp['dnam'])\n",
    "\n",
    "    # Make predictions on the test set\n",
    "    y_pred = affine(gam.predict(bs_temp['bp'])) # this is my proxy for uncontaminated Y\n",
    "\n",
    "    # Evaluate the model \n",
    "    mse[i] = np.std(gam.deviance_residuals(bs_temp['bp'], bs_temp['dnam']))\n",
    "    \n",
    "    # Fisher information\n",
    "    fisher_information = fisher_inf(y_pred)\n",
    "    \n",
    "    # Bound of error variance\n",
    "    bound[i] = (np.exp(2*estimator(np.column_stack((bs_temp['bp'], bs_temp['dnam'])))[0]) - 1)/fisher_information \n",
    "    \n",
    "print(np.round(np.percentile(bound-mse, [2.5, 50, 97.5]), 3))\n",
    "print(np.round(np.percentile(bound-mse, [5]), 3))"
   ]
  },
  {
   "cell_type": "markdown",
   "id": "ea3a48db-9a2f-410f-ad36-303afab7c34f",
   "metadata": {},
   "source": [
    "### Estimates of BPD vs DNAm for combined"
   ]
  },
  {
   "cell_type": "code",
   "execution_count": 57,
   "id": "828260d2-cffc-4b94-afd7-ae5d97a1dea3",
   "metadata": {},
   "outputs": [
    {
     "name": "stdout",
     "output_type": "stream",
     "text": [
      "[-0.364 -0.181  0.028]\n",
      "[-0.254]\n"
     ]
    }
   ],
   "source": [
    "temp = data\n",
    "temp['bp'] = temp['bpd']\n",
    "\n",
    "np.random.seed(42)\n",
    "niter = 250\n",
    "mse = np.zeros(niter)\n",
    "bound = np.zeros(niter)\n",
    "\n",
    "for i in range(niter):\n",
    "    bs_temp = temp.sample(n = len(temp), replace = True)\n",
    "    bs_temp['bp'] = affine(bs_temp['bp'])\n",
    "    bs_temp['dnam'] = affine(bs_temp['dnam'])\n",
    "    \n",
    "    # Create and fit the GAM model with cubic splines\n",
    "    gam = LinearGAM(s(0, spline_order = 1)).fit(bs_temp['bp'], bs_temp['dnam'])\n",
    "\n",
    "    # Make predictions on the test set\n",
    "    y_pred = affine(gam.predict(bs_temp['bp'])) # this is my proxy for uncontaminated Y\n",
    "\n",
    "    # Evaluate the model \n",
    "    mse[i] = np.std(gam.deviance_residuals(bs_temp['bp'], bs_temp['dnam']))\n",
    "    \n",
    "    # Fisher information\n",
    "    fisher_information = fisher_inf(y_pred)\n",
    "    \n",
    "    # Bound of error variance\n",
    "    bound[i] = (np.exp(2*estimator(np.column_stack((bs_temp['bp'], bs_temp['dnam'])))[0]) - 1)/fisher_information \n",
    "    \n",
    "print(np.round(np.percentile(bound-mse, [2.5, 50, 97.5]), 3))\n",
    "print(np.round(np.percentile(bound-mse, [5]), 3))"
   ]
  },
  {
   "cell_type": "code",
   "execution_count": null,
   "id": "2d55fa7a-a0a3-4675-ad96-9d8aa7722269",
   "metadata": {},
   "outputs": [],
   "source": []
  }
 ],
 "metadata": {
  "kernelspec": {
   "display_name": "Python 3 (ipykernel)",
   "language": "python",
   "name": "python3"
  },
  "language_info": {
   "codemirror_mode": {
    "name": "ipython",
    "version": 3
   },
   "file_extension": ".py",
   "mimetype": "text/x-python",
   "name": "python",
   "nbconvert_exporter": "python",
   "pygments_lexer": "ipython3",
   "version": "3.11.5"
  }
 },
 "nbformat": 4,
 "nbformat_minor": 5
}
