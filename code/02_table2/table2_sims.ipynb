{
 "cells": [
  {
   "cell_type": "markdown",
   "id": "52ee3ef2-7336-410a-a0cd-e59fb4a89666",
   "metadata": {},
   "source": [
    "# 2024_02_05: code updated and simulations for Y = f(X) coverage probability is run"
   ]
  },
  {
   "cell_type": "markdown",
   "id": "8e649b2a-464c-4b53-a464-94e3f07c1a9b",
   "metadata": {
    "tags": []
   },
   "source": [
    "## Preliminaries"
   ]
  },
  {
   "cell_type": "code",
   "execution_count": 1,
   "id": "c4fb6282-e130-4286-b3d8-515cb44556a1",
   "metadata": {},
   "outputs": [],
   "source": [
    "import warnings\n",
    "warnings.filterwarnings(\"ignore\")\n",
    "\n",
    "import numpy as np\n",
    "import scipy.stats as st\n",
    "import scipy.special as sp\n",
    "import random\n",
    "\n",
    "from fastkde import fastKDE\n",
    "\n",
    "seed_val = 1234"
   ]
  },
  {
   "cell_type": "code",
   "execution_count": 2,
   "id": "c9962bb5-785c-4e7e-96ea-105feb751713",
   "metadata": {},
   "outputs": [],
   "source": [
    "def estimator(x, alpha = 0.05):\n",
    "    \n",
    "    if(x.shape[0]%2!=0):\n",
    "        x = x[:-1]\n",
    "    \n",
    "    estim, inf = np.split(x, 2) #split data up into two halves\n",
    "    \n",
    "    ## first split used for density estimation\n",
    "    margin_x = fastKDE.pdf_at_points(var1 = estim[:,0], list_of_points = list(inf[:,0]))\n",
    "    margin_y = fastKDE.pdf_at_points(var1 = estim[:,1], list_of_points = list(inf[:,1]))\n",
    "    select = np.logical_and(margin_x > 0, margin_y > 0)\n",
    "    margin_y = margin_y[select]\n",
    "    margin_x = margin_x[select]\n",
    "    \n",
    "    h_x1 = -np.mean(np.log(margin_x))\n",
    "    h_y1 = -np.mean(np.log(margin_y))\n",
    "    covar1 = np.cov(np.log(margin_x), np.log(margin_y))\n",
    "    delta_var1 = covar1[0,0] + covar1[1,1] - 2*covar1[0,1]\n",
    "    \n",
    "    \n",
    "    ## second split used for density estimation\n",
    "    margin_x = fastKDE.pdf_at_points(var1 = inf[:,0], list_of_points = list(estim[:,0]))\n",
    "    margin_y = fastKDE.pdf_at_points(var1 = inf[:,1], list_of_points = list(estim[:,1]))\n",
    "    select = np.logical_and(margin_x > 0, margin_y > 0)\n",
    "    margin_y = margin_y[select]\n",
    "    margin_x = margin_x[select]\n",
    "    \n",
    "    h_x2 = -np.mean(np.log(margin_x))\n",
    "    h_y2 = -np.mean(np.log(margin_y))\n",
    "    covar2 = np.cov(np.log(margin_x), np.log(margin_y))\n",
    "    delta_var2 = covar2[0,0] + covar2[1,1] - 2*covar2[0,1]\n",
    "    \n",
    "    ## cross fitting\n",
    "    h_x = (h_x1 + h_x2)/2\n",
    "    h_y = (h_y1 + h_y2)/2\n",
    "    delta = (h_x - h_y)\n",
    "    \n",
    "    ## variance estimation using monte carlo\n",
    "    delta_var = (delta_var1 + delta_var2)/2\n",
    "    delta_sd = np.sqrt(delta_var)\n",
    "    \n",
    "    delta_lcb = delta - st.norm.ppf(1 - alpha/2)*delta_sd/np.sqrt(len(select))\n",
    "    delta_ucb = delta + st.norm.ppf(1 - alpha/2)*delta_sd/np.sqrt(len(select))\n",
    "    \n",
    "    return ([h_x, h_y, delta_lcb, delta, delta_ucb, delta_sd/np.sqrt(len(select))])"
   ]
  },
  {
   "cell_type": "markdown",
   "id": "7b2c107d-e47b-4baa-829e-7ec0c38103b1",
   "metadata": {
    "tags": []
   },
   "source": [
    "## Case 1: $X \\sim $ lognormal; $Y \\sim $ normal (vary sample size n)"
   ]
  },
  {
   "cell_type": "code",
   "execution_count": 3,
   "id": "35d85f22-717f-4df6-8fae-da54de3b88fd",
   "metadata": {},
   "outputs": [],
   "source": [
    "np.random.seed(4321)\n",
    "def data_gen_1(n = 1000, mu = 5):\n",
    "    y = np.random.normal(loc = mu, scale = 1, size = n) \n",
    "    x = np.random.lognormal(mean = mu, sigma = 1, size = n) \n",
    "    return np.column_stack((x, y))\n",
    "\n",
    "niter = 200\n",
    "count = np.zeros(niter)\n",
    "bias = np.zeros(niter)\n",
    "estim = np.zeros(niter)\n",
    "sd_estim = np.zeros(niter)\n",
    "for i in range(niter):\n",
    "    data = data_gen_1(250, 5)\n",
    "    op = estimator(data)\n",
    "    estim[i] = op[3]\n",
    "    sd_estim[i] = op[5]\n",
    "    if((5 - op[2])*(op[4] - 5) >= 0):\n",
    "        count[i] = 1\n",
    "    bias[i] = np.abs(op[3] - 5)"
   ]
  },
  {
   "cell_type": "code",
   "execution_count": 4,
   "id": "46ea5c42-5049-446b-b1eb-51c45a37a204",
   "metadata": {},
   "outputs": [
    {
     "name": "stdout",
     "output_type": "stream",
     "text": [
      "0.945\n",
      "[0.095]\n",
      "[5.036 0.112]\n",
      "0.114\n"
     ]
    }
   ],
   "source": [
    "print(np.round(np.mean(count), 3)) ## coverage\n",
    "print(np.round([np.mean(bias)], 3)) ## absolute error and error variance\n",
    "print(np.round([np.mean(estim), np.std(estim)], 3))## MC-based estimator mean and variance\n",
    "print(np.round(np.mean(sd_estim), 3))"
   ]
  },
  {
   "cell_type": "code",
   "execution_count": 5,
   "id": "7a6425ae-6299-42c3-8877-20946a5d6c55",
   "metadata": {},
   "outputs": [],
   "source": [
    "np.random.seed(4321)\n",
    "def data_gen_1(n = 1000, mu = 5):\n",
    "    y = np.random.normal(loc = mu, scale = 1, size = n) \n",
    "    x = np.random.lognormal(mean = mu, sigma = 1, size = n) \n",
    "    return np.column_stack((x, y))\n",
    "\n",
    "niter = 200\n",
    "count = np.zeros(niter)\n",
    "bias = np.zeros(niter)\n",
    "estim = np.zeros(niter)\n",
    "sd_estim = np.zeros(niter)\n",
    "for i in range(niter):\n",
    "    data = data_gen_1(500, 5)\n",
    "    op = estimator(data)\n",
    "    estim[i] = op[3]\n",
    "    sd_estim[i] = op[5]\n",
    "    if((5 - op[2])*(op[4] - 5) >= 0):\n",
    "        count[i] = 1\n",
    "    bias[i] = np.abs(op[3] - 5)"
   ]
  },
  {
   "cell_type": "code",
   "execution_count": 6,
   "id": "78c38d46-7eda-452d-8256-878afb016ea8",
   "metadata": {},
   "outputs": [
    {
     "name": "stdout",
     "output_type": "stream",
     "text": [
      "0.98\n",
      "[0.058]\n",
      "[5.015 0.073]\n",
      "0.084\n"
     ]
    }
   ],
   "source": [
    "print(np.round(np.mean(count), 3)) ## coverage\n",
    "print(np.round([np.mean(bias)], 3)) ## absolute error and error variance\n",
    "print(np.round([np.mean(estim), np.std(estim)], 3))## MC-based estimator mean and variance\n",
    "print(np.round(np.mean(sd_estim), 3))"
   ]
  },
  {
   "cell_type": "code",
   "execution_count": 7,
   "id": "a3493ad1-7ee9-453f-833d-cd13a1fd70bc",
   "metadata": {},
   "outputs": [],
   "source": [
    "np.random.seed(4321)\n",
    "def data_gen_1(n = 1000, mu = 5):\n",
    "    y = np.random.normal(loc = mu, scale = 1, size = n) \n",
    "    x = np.random.lognormal(mean = mu, sigma = 1, size = n) \n",
    "    return np.column_stack((x, y))\n",
    "\n",
    "niter = 200\n",
    "count = np.zeros(niter)\n",
    "bias = np.zeros(niter)\n",
    "estim = np.zeros(niter)\n",
    "sd_estim = np.zeros(niter)\n",
    "for i in range(niter):\n",
    "    data = data_gen_1(750, 5)\n",
    "    op = estimator(data)\n",
    "    estim[i] = op[3]\n",
    "    sd_estim[i] = op[5]\n",
    "    if((5 - op[2])*(op[4] - 5) >= 0):\n",
    "        count[i] = 1\n",
    "    bias[i] = np.abs(op[3] - 5)"
   ]
  },
  {
   "cell_type": "code",
   "execution_count": 8,
   "id": "5031383c-62cc-47c3-9b8f-e09e8157c05e",
   "metadata": {},
   "outputs": [
    {
     "name": "stdout",
     "output_type": "stream",
     "text": [
      "0.965\n",
      "[0.048]\n",
      "[5.012 0.06 ]\n",
      "0.07\n"
     ]
    }
   ],
   "source": [
    "print(np.round(np.mean(count), 3)) ## coverage\n",
    "print(np.round([np.mean(bias)], 3)) ## absolute error and error variance\n",
    "print(np.round([np.mean(estim), np.std(estim)], 3))## MC-based estimator mean and variance\n",
    "print(np.round(np.mean(sd_estim), 3))"
   ]
  },
  {
   "cell_type": "markdown",
   "id": "47c4d0bb-3575-431b-95dc-542723fcb5d8",
   "metadata": {
    "tags": []
   },
   "source": [
    "## Case 2: $X \\sim$ Exp(scale = 1); $Y \\sim$ Weibull(scale = 1, shape = 1.5) (vary sample size n)"
   ]
  },
  {
   "cell_type": "code",
   "execution_count": 9,
   "id": "895da490-a1cc-4374-b95c-1d215185d824",
   "metadata": {},
   "outputs": [],
   "source": [
    "np.random.seed(1234)\n",
    "def data_gen_2(n = 1000, scale = 1, shape = 2):\n",
    "    x = np.random.exponential(scale = 1, size = n)\n",
    "    y = np.random.weibull(a = shape, size = n)\n",
    "    return np.column_stack((x, y))\n",
    "\n",
    "scale = 1\n",
    "shape = 1.5\n",
    "true = (1 + np.log(scale)) - (-sp.digamma(1)*(1 - 1/shape) + np.log(scale/shape) + 1) \n",
    "niter = 200\n",
    "count = np.zeros(niter)\n",
    "bias = np.zeros(niter)\n",
    "estim = np.zeros(niter)\n",
    "sd_estim = np.zeros(niter)\n",
    "for i in range(niter):\n",
    "    data = data_gen_2(250, scale, shape)\n",
    "    op = estimator(data)\n",
    "    estim[i] = op[3]\n",
    "    sd_estim[i] = op[5]\n",
    "    if((true - op[2])*(op[4] - true) >= 0):\n",
    "        count[i] = 1\n",
    "    bias[i] = np.abs(op[3] - true)"
   ]
  },
  {
   "cell_type": "code",
   "execution_count": 10,
   "id": "0d1675f0-6c30-4e6b-816a-ab538c6f14a9",
   "metadata": {},
   "outputs": [
    {
     "name": "stdout",
     "output_type": "stream",
     "text": [
      "0.935\n",
      "[0.082]\n",
      "[0.265 0.087]\n",
      "0.102\n"
     ]
    }
   ],
   "source": [
    "print(np.round(np.mean(count), 3)) ## coverage\n",
    "print(np.round([np.mean(bias)], 3)) ## absolute error and error variance\n",
    "print(np.round([np.mean(estim), np.std(estim)], 3))## MC-based estimator mean and variance\n",
    "print(np.round(np.mean(sd_estim), 3))"
   ]
  },
  {
   "cell_type": "code",
   "execution_count": 11,
   "id": "7418edd3-739c-4458-b04c-dc39fbcaebd2",
   "metadata": {},
   "outputs": [],
   "source": [
    "np.random.seed(1234)\n",
    "def data_gen_2(n = 1000, scale = 1, shape = 2):\n",
    "    x = np.random.exponential(scale = 1, size = n)\n",
    "    y = np.random.weibull(a = shape, size = n)\n",
    "    return np.column_stack((x, y))\n",
    "\n",
    "scale = 1\n",
    "shape = 1.5\n",
    "true = (1 + np.log(scale)) - (-sp.digamma(1)*(1 - 1/shape) + np.log(scale/shape) + 1) \n",
    "niter = 200\n",
    "count = np.zeros(niter)\n",
    "bias = np.zeros(niter)\n",
    "estim = np.zeros(niter)\n",
    "sd_estim = np.zeros(niter)\n",
    "for i in range(niter):\n",
    "    data = data_gen_2(500, scale, shape)\n",
    "    op = estimator(data)\n",
    "    estim[i] = op[3]\n",
    "    sd_estim[i] = op[5]\n",
    "    if((true - op[2])*(op[4] - true) >= 0):\n",
    "        count[i] = 1\n",
    "    bias[i] = np.abs(op[3] - true)"
   ]
  },
  {
   "cell_type": "code",
   "execution_count": 12,
   "id": "98d02626-a01f-4b7a-8f6e-cac1910e41ba",
   "metadata": {},
   "outputs": [
    {
     "name": "stdout",
     "output_type": "stream",
     "text": [
      "0.935\n",
      "[0.062]\n",
      "[0.257 0.064]\n",
      "0.074\n"
     ]
    }
   ],
   "source": [
    "print(np.round(np.mean(count), 3)) ## coverage\n",
    "print(np.round([np.mean(bias)], 3)) ## absolute error and error variance\n",
    "print(np.round([np.mean(estim), np.std(estim)], 3))## MC-based estimator mean and variance\n",
    "print(np.round(np.mean(sd_estim), 3))"
   ]
  },
  {
   "cell_type": "code",
   "execution_count": 13,
   "id": "a9d33c24-6255-428e-b400-7ec320555df2",
   "metadata": {},
   "outputs": [],
   "source": [
    "np.random.seed(1234)\n",
    "def data_gen_2(n = 1000, scale = 1, shape = 2):\n",
    "    x = np.random.exponential(scale = 1, size = n)\n",
    "    y = np.random.weibull(a = shape, size = n)\n",
    "    return np.column_stack((x, y))\n",
    "\n",
    "scale = 1\n",
    "shape = 1.5\n",
    "true = (1 + np.log(scale)) - (-sp.digamma(1)*(1 - 1/shape) + np.log(scale/shape) + 1) \n",
    "niter = 200\n",
    "count = np.zeros(niter)\n",
    "bias = np.zeros(niter)\n",
    "estim = np.zeros(niter)\n",
    "sd_estim = np.zeros(niter)\n",
    "for i in range(niter):\n",
    "    data = data_gen_2(750, scale, shape)\n",
    "    op = estimator(data)\n",
    "    estim[i] = op[3]\n",
    "    sd_estim[i] = op[5]\n",
    "    if((true - op[2])*(op[4] - true) >= 0):\n",
    "        count[i] = 1\n",
    "    bias[i] = np.abs(op[3] - true)"
   ]
  },
  {
   "cell_type": "code",
   "execution_count": 14,
   "id": "148baf74-7820-422a-8d48-9926b0a5f359",
   "metadata": {},
   "outputs": [
    {
     "name": "stdout",
     "output_type": "stream",
     "text": [
      "0.96\n",
      "[0.049]\n",
      "[0.245 0.051]\n",
      "0.061\n"
     ]
    }
   ],
   "source": [
    "print(np.round(np.mean(count), 3)) ## coverage\n",
    "print(np.round([np.mean(bias)], 3)) ## absolute error and error variance\n",
    "print(np.round([np.mean(estim), np.std(estim)], 3))## MC-based estimator mean and variance\n",
    "print(np.round(np.mean(sd_estim), 3))"
   ]
  },
  {
   "cell_type": "code",
   "execution_count": null,
   "id": "26d312e9-373a-4bf9-8e04-b2a990166fbd",
   "metadata": {},
   "outputs": [],
   "source": []
  }
 ],
 "metadata": {
  "kernelspec": {
   "display_name": "Python 3 (ipykernel)",
   "language": "python",
   "name": "python3"
  },
  "language_info": {
   "codemirror_mode": {
    "name": "ipython",
    "version": 3
   },
   "file_extension": ".py",
   "mimetype": "text/x-python",
   "name": "python",
   "nbconvert_exporter": "python",
   "pygments_lexer": "ipython3",
   "version": "3.9.7"
  }
 },
 "nbformat": 4,
 "nbformat_minor": 5
}
