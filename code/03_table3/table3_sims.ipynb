{
 "cells": [
  {
   "cell_type": "markdown",
   "id": "320f8638-50e1-4d96-abeb-19adb654fb16",
   "metadata": {},
   "source": [
    "# Functional relation comparison"
   ]
  },
  {
   "cell_type": "code",
   "execution_count": 1,
   "id": "228389e0-2998-45db-a618-9929be3d1731",
   "metadata": {
    "tags": []
   },
   "outputs": [],
   "source": [
    "import warnings\n",
    "warnings.filterwarnings(\"ignore\")\n",
    "\n",
    "import numpy as np\n",
    "import scipy.stats as st\n",
    "import scipy.special as sp\n",
    "import random\n",
    "\n",
    "from fastkde import fastKDE"
   ]
  },
  {
   "cell_type": "code",
   "execution_count": 2,
   "id": "c409e00d-7b8f-443c-9b80-93ce45d2e84e",
   "metadata": {
    "tags": []
   },
   "outputs": [],
   "source": [
    "from cdt.causality.pairwise import ANM\n",
    "anm = ANM()\n",
    "\n",
    "from cdt.causality.pairwise import CDS\n",
    "cds = CDS()\n",
    "\n",
    "from cdt.causality.pairwise import RECI\n",
    "reci = RECI()"
   ]
  },
  {
   "cell_type": "code",
   "execution_count": 3,
   "id": "a99b77e4-db06-4b4f-b6b7-d3124ff8522a",
   "metadata": {
    "tags": []
   },
   "outputs": [],
   "source": [
    "def estimator(x, alpha = 0.05):\n",
    "    \n",
    "    if(x.shape[0]%2!=0):\n",
    "        x = x[:-1]\n",
    "    \n",
    "    estim, inf = np.split(x, 2) #split data up into two halves\n",
    "    \n",
    "    ## first split used for density estimation\n",
    "    margin_x = fastKDE.pdf_at_points(var1 = estim[:,0], list_of_points = list(inf[:,0]))\n",
    "    margin_y = fastKDE.pdf_at_points(var1 = estim[:,1], list_of_points = list(inf[:,1]))\n",
    "    select = np.logical_and(margin_x > 0, margin_y > 0)\n",
    "    margin_y = margin_y[select]\n",
    "    margin_x = margin_x[select]\n",
    "    \n",
    "    h_x1 = -np.mean(np.log(margin_x))\n",
    "    h_y1 = -np.mean(np.log(margin_y))\n",
    "    \n",
    "    ## second split used for density estimation\n",
    "    margin_x = fastKDE.pdf_at_points(var1 = inf[:,0], list_of_points = list(estim[:,0]))\n",
    "    margin_y = fastKDE.pdf_at_points(var1 = inf[:,1], list_of_points = list(estim[:,1]))\n",
    "    select = np.logical_and(margin_x > 0, margin_y > 0)\n",
    "    margin_y = margin_y[select]\n",
    "    margin_x = margin_x[select]\n",
    "    \n",
    "    h_x2 = -np.mean(np.log(margin_x))\n",
    "    h_y2 = -np.mean(np.log(margin_y))\n",
    "    \n",
    "    ## cross fitting\n",
    "    h_x = (h_x1 + h_x2)/2\n",
    "    h_y = (h_y1 + h_y2)/2\n",
    "    delta = (h_x - h_y)\n",
    "    \n",
    "    ## variance estimation using monte carlo\n",
    "    margin_x = fastKDE.pdf_at_points(var1 = x[:,0])\n",
    "    margin_y = fastKDE.pdf_at_points(var1 = x[:,1])\n",
    "    select = np.logical_and(margin_x > 0, margin_y > 0)\n",
    "    margin_y = margin_y[select]\n",
    "    margin_x = margin_x[select]\n",
    "    \n",
    "    covar = np.cov(np.log(margin_x), np.log(margin_y))\n",
    "    \n",
    "    delta_var = covar[0,0] + covar[1,1] - 2*covar[0,1]\n",
    "    delta_sd = np.sqrt(delta_var)\n",
    "    \n",
    "    delta_lcb = delta - st.norm.ppf(1 - alpha/2)*delta_sd/np.sqrt(len(select)/2)\n",
    "    delta_ucb = delta + st.norm.ppf(1 - alpha/2)*delta_sd/np.sqrt(len(select)/2)\n",
    "    \n",
    "    if(delta_lcb*delta_ucb < 0):\n",
    "        decision = 0\n",
    "    else:\n",
    "        decision = delta_lcb/np.abs(delta_lcb)\n",
    "    \n",
    "    return ([decision, h_x, h_y, delta_lcb, delta, delta_ucb, delta_sd/np.sqrt(len(select)/2)])"
   ]
  },
  {
   "cell_type": "markdown",
   "id": "3d52b7fb-cb58-49cd-b2d4-57a2babbb38d",
   "metadata": {
    "tags": []
   },
   "source": [
    "## Data generation"
   ]
  },
  {
   "cell_type": "code",
   "execution_count": 4,
   "id": "c82b2e21-1378-4279-9f12-40c9f208a055",
   "metadata": {
    "tags": []
   },
   "outputs": [],
   "source": [
    "import numpy as np\n",
    "from scipy.stats import rankdata, norm\n",
    "\n",
    "def simulate_data(n_samples, g_func, rho=0.0, s=1.0, seed=None):\n",
    "    \"\"\"\n",
    "    Generate simulated data according to specified process.\n",
    "    \n",
    "    Parameters:\n",
    "    -----------\n",
    "    n_samples : int\n",
    "        Number of samples to generate\n",
    "    g_func : callable\n",
    "        Function g(x) to transform x\n",
    "    rho : float\n",
    "        Correlation coefficient for bivariate normal\n",
    "    s : float\n",
    "        Standard deviation parameter for error scaling\n",
    "    seed : int, optional\n",
    "        Random seed for reproducibility\n",
    "    \n",
    "    Returns:\n",
    "    --------\n",
    "    dict containing:\n",
    "        x : array\n",
    "            Generated x values\n",
    "        y : array\n",
    "            Generated y values with error\n",
    "        y_true : array\n",
    "            Generated y values without error\n",
    "        e : array\n",
    "            Generated error terms\n",
    "    \"\"\"\n",
    "    if seed is not None:\n",
    "        np.random.seed(seed)\n",
    "    \n",
    "    # 1. Generate X and e from bivariate normal\n",
    "    cov_matrix = [[1, rho], [rho, 1]]\n",
    "    data = np.random.multivariate_normal([0, 0], cov_matrix, n_samples)\n",
    "    x_normal, e_normal = data[:, 0], data[:, 1]\n",
    "    \n",
    "    # 2. Transform to uniform using rank transformation\n",
    "    x_uniform = rankdata(x_normal) / (n_samples + 1)\n",
    "    e_uniform = rankdata(e_normal) / (n_samples + 1)\n",
    "    \n",
    "    # Keep original x for output\n",
    "    x = x_uniform.copy()\n",
    "    \n",
    "    # 3. Scale e to normal with sd = s\n",
    "    e = norm.ppf(e_uniform) * s\n",
    "    \n",
    "    # 4. Create y = g(x)\n",
    "    y_true = g_func(x)\n",
    "    \n",
    "    # 5. Affine transform y to [0, 1]\n",
    "    y_min, y_max = np.min(y_true), np.max(y_true)\n",
    "    y_true = (y_true - y_min) / (y_max - y_min)\n",
    "    \n",
    "    # 6. Add error e\n",
    "    y = y_true + e\n",
    "    \n",
    "    return(np.column_stack((x, y)))"
   ]
  },
  {
   "cell_type": "markdown",
   "id": "78ab9a08-b8bf-45e1-a13b-6faef77769be",
   "metadata": {},
   "source": [
    "## Case 1, no noise"
   ]
  },
  {
   "cell_type": "code",
   "execution_count": 5,
   "id": "0b8628bf-388b-4538-b46b-567b3c66d9ee",
   "metadata": {},
   "outputs": [
    {
     "data": {
      "text/plain": [
       "array([1.   , 0.224, 0.   , 0.   ])"
      ]
     },
     "execution_count": 5,
     "metadata": {},
     "output_type": "execute_result"
    }
   ],
   "source": [
    "# Define a sample g function (quadratic)\n",
    "g = lambda x: np.power(x, 1/3)\n",
    "# Generate data\n",
    "n_samples = 1000\n",
    "# number of iterations\n",
    "niter = 250\n",
    "## error \n",
    "sd = 0\n",
    "## correlation\n",
    "r = 0\n",
    "\n",
    "results = np.zeros((niter, 4))\n",
    "\n",
    "for i in range(niter):\n",
    "    data = simulate_data(n_samples=n_samples, \n",
    "                     g_func=g,\n",
    "                     rho=r,  #  correlation between X and e\n",
    "                     s=sd,    #  error term\n",
    "                     seed=42 + i)   # For reproducibility\n",
    "    results[i] = [estimator(data)[0], anm.predict_proba((data[:,0], data[:,1])), cds.predict_proba((data[:,0], data[:,1])), reci.predict_proba((data[:,0], data[:,1]))]\n",
    "    \n",
    "np.sum(results > 0, axis = 0)/float(niter)"
   ]
  },
  {
   "cell_type": "markdown",
   "id": "9cb0443c-12ce-4178-a967-b40eca8cfa28",
   "metadata": {
    "tags": []
   },
   "source": [
    "## Case 1, low noise, low correlation"
   ]
  },
  {
   "cell_type": "code",
   "execution_count": 6,
   "id": "2b8da51b-be72-466a-81ec-c2df7864f93b",
   "metadata": {
    "tags": []
   },
   "outputs": [
    {
     "data": {
      "text/plain": [
       "array([1.   , 0.236, 0.   , 0.   ])"
      ]
     },
     "execution_count": 6,
     "metadata": {},
     "output_type": "execute_result"
    }
   ],
   "source": [
    "# Define a sample g function (quadratic)\n",
    "g = lambda x: np.power(x, 1/3)\n",
    "# Generate data\n",
    "n_samples = 1000\n",
    "# number of iterations\n",
    "niter = 250\n",
    "## error \n",
    "sd = 0.02\n",
    "## correlation\n",
    "r = 0.10\n",
    "\n",
    "results = np.zeros((niter, 4))\n",
    "\n",
    "for i in range(niter):\n",
    "    data = simulate_data(n_samples=n_samples, \n",
    "                     g_func=g,\n",
    "                     rho=r,  #  correlation between X and e\n",
    "                     s=sd,    #  error term\n",
    "                     seed=42 + i)   # For reproducibility\n",
    "    results[i] = [estimator(data)[0], anm.predict_proba((data[:,0], data[:,1])), cds.predict_proba((data[:,0], data[:,1])), reci.predict_proba((data[:,0], data[:,1]))]\n",
    "    \n",
    "np.sum(results > 0, axis = 0)/float(niter)"
   ]
  },
  {
   "cell_type": "markdown",
   "id": "5c47ee08-95a3-469d-9e0b-fa3566d96907",
   "metadata": {},
   "source": [
    "## Case 1, low noise, high correlation"
   ]
  },
  {
   "cell_type": "code",
   "execution_count": 7,
   "id": "1be3e81a-adf0-4685-9c42-826a0d70fdab",
   "metadata": {
    "tags": []
   },
   "outputs": [
    {
     "data": {
      "text/plain": [
       "array([1.   , 0.212, 0.   , 0.   ])"
      ]
     },
     "execution_count": 7,
     "metadata": {},
     "output_type": "execute_result"
    }
   ],
   "source": [
    "# Define a sample g function (quadratic)\n",
    "g = lambda x: np.power(x, 1/3)\n",
    "# Generate data\n",
    "n_samples = 1000\n",
    "# number of iterations\n",
    "niter = 250\n",
    "## error \n",
    "sd = 0.02\n",
    "## correlation\n",
    "r = 0.60\n",
    "\n",
    "results = np.zeros((niter, 4))\n",
    "\n",
    "for i in range(niter):\n",
    "    data = simulate_data(n_samples=n_samples, \n",
    "                     g_func=g,\n",
    "                     rho=r,  #  correlation between X and e\n",
    "                     s=sd,    #  error term\n",
    "                     seed=42 + i)   # For reproducibility\n",
    "    results[i] = [estimator(data)[0], anm.predict_proba((data[:,0], data[:,1])), cds.predict_proba((data[:,0], data[:,1])), reci.predict_proba((data[:,0], data[:,1]))]\n",
    "    \n",
    "np.sum(results > 0, axis = 0)/float(niter)"
   ]
  },
  {
   "cell_type": "markdown",
   "id": "e854828a-7907-425c-b5b6-d002ef149da8",
   "metadata": {},
   "source": [
    "## Case 2, no noise"
   ]
  },
  {
   "cell_type": "code",
   "execution_count": 8,
   "id": "70c55818-a9a6-4ba8-a185-ef35f6c439dd",
   "metadata": {
    "tags": []
   },
   "outputs": [
    {
     "data": {
      "text/plain": [
       "array([1.   , 0.176, 0.   , 0.   ])"
      ]
     },
     "execution_count": 8,
     "metadata": {},
     "output_type": "execute_result"
    }
   ],
   "source": [
    "# Define a sample g function (quadratic)\n",
    "g = lambda x: np.power(x, 1/2)\n",
    "# Generate data\n",
    "n_samples = 1000\n",
    "# number of iterations\n",
    "niter = 250\n",
    "## error \n",
    "sd = 0.0\n",
    "## correlation\n",
    "r = 0.0\n",
    "\n",
    "results = np.zeros((niter, 4))\n",
    "\n",
    "for i in range(niter):\n",
    "    data = simulate_data(n_samples=n_samples, \n",
    "                     g_func=g,\n",
    "                     rho=r,  #  correlation between X and e\n",
    "                     s=sd,    #  error term\n",
    "                     seed=42 + i)   # For reproducibility\n",
    "    results[i] = [estimator(data)[0], anm.predict_proba((data[:,0], data[:,1])), cds.predict_proba((data[:,0], data[:,1])), reci.predict_proba((data[:,0], data[:,1]))]\n",
    "    \n",
    "np.sum(results > 0, axis = 0)/float(niter)"
   ]
  },
  {
   "cell_type": "markdown",
   "id": "52ce7360-ae77-4c9a-9d9e-e9fb8774f24c",
   "metadata": {},
   "source": [
    "## Case 2, low noise, low correlation"
   ]
  },
  {
   "cell_type": "code",
   "execution_count": 9,
   "id": "4d80a0f7-362c-4da9-a2ff-3a08b727783b",
   "metadata": {
    "tags": []
   },
   "outputs": [
    {
     "data": {
      "text/plain": [
       "array([1.  , 0.22, 0.  , 0.  ])"
      ]
     },
     "execution_count": 9,
     "metadata": {},
     "output_type": "execute_result"
    }
   ],
   "source": [
    "# Define a sample g function (quadratic)\n",
    "g = lambda x: np.power(x, 1/2)\n",
    "# Generate data\n",
    "n_samples = 1000\n",
    "# number of iterations\n",
    "niter = 250\n",
    "## error \n",
    "sd = 0.02\n",
    "## correlation\n",
    "r = 0.10\n",
    "\n",
    "results = np.zeros((niter, 4))\n",
    "\n",
    "for i in range(niter):\n",
    "    data = simulate_data(n_samples=n_samples, \n",
    "                     g_func=g,\n",
    "                     rho=r,  #  correlation between X and e\n",
    "                     s=sd,    #  error term\n",
    "                     seed=42 + i)   # For reproducibility\n",
    "    results[i] = [estimator(data)[0], anm.predict_proba((data[:,0], data[:,1])), cds.predict_proba((data[:,0], data[:,1])), reci.predict_proba((data[:,0], data[:,1]))]\n",
    "    \n",
    "np.sum(results > 0, axis = 0)/float(niter)"
   ]
  },
  {
   "cell_type": "markdown",
   "id": "acee79ce-ef99-4439-a15d-5ed2b199dc09",
   "metadata": {},
   "source": [
    "## Case 2, low noise, high correlation"
   ]
  },
  {
   "cell_type": "code",
   "execution_count": 10,
   "id": "d35be66d-26ca-41b5-a1a7-bb4497c18c7e",
   "metadata": {
    "tags": []
   },
   "outputs": [
    {
     "data": {
      "text/plain": [
       "array([1.  , 0.18, 0.  , 0.  ])"
      ]
     },
     "execution_count": 10,
     "metadata": {},
     "output_type": "execute_result"
    }
   ],
   "source": [
    "# Define a sample g function (quadratic)\n",
    "g = lambda x: np.power(x, 1/2)\n",
    "# Generate data\n",
    "n_samples = 1000\n",
    "# number of iterations\n",
    "niter = 250\n",
    "## error \n",
    "sd = 0.02\n",
    "## correlation\n",
    "r = 0.60\n",
    "\n",
    "results = np.zeros((niter, 4))\n",
    "\n",
    "for i in range(niter):\n",
    "    data = simulate_data(n_samples=n_samples, \n",
    "                     g_func=g,\n",
    "                     rho=r,  #  correlation between X and e\n",
    "                     s=sd,    #  error term\n",
    "                     seed=42 + i)   # For reproducibility\n",
    "    results[i] = [estimator(data)[0], anm.predict_proba((data[:,0], data[:,1])), cds.predict_proba((data[:,0], data[:,1])), reci.predict_proba((data[:,0], data[:,1]))]\n",
    "    \n",
    "np.sum(results > 0, axis = 0)/float(niter)"
   ]
  },
  {
   "cell_type": "markdown",
   "id": "57f13cff-e06a-490a-a584-c73fa348610f",
   "metadata": {},
   "source": [
    "## Case 3, no noise"
   ]
  },
  {
   "cell_type": "code",
   "execution_count": 11,
   "id": "99cfac1d-cddf-4303-8e8e-8f35b1db415e",
   "metadata": {
    "tags": []
   },
   "outputs": [
    {
     "data": {
      "text/plain": [
       "array([1.  , 0.24, 1.  , 1.  ])"
      ]
     },
     "execution_count": 11,
     "metadata": {},
     "output_type": "execute_result"
    }
   ],
   "source": [
    "# Define a sample g function (quadratic)\n",
    "g = lambda x: np.power(x, 2)\n",
    "# Generate data\n",
    "n_samples = 1000\n",
    "# number of iterations\n",
    "niter = 250\n",
    "## error \n",
    "sd = 0.0\n",
    "## correlation\n",
    "r = 0.0\n",
    "\n",
    "results = np.zeros((niter, 4))\n",
    "\n",
    "for i in range(niter):\n",
    "    data = simulate_data(n_samples=n_samples, \n",
    "                     g_func=g,\n",
    "                     rho=r,  #  correlation between X and e\n",
    "                     s=sd,    #  error term\n",
    "                     seed=42 + i)   # For reproducibility\n",
    "    results[i] = [estimator(data)[0], anm.predict_proba((data[:,0], data[:,1])), cds.predict_proba((data[:,0], data[:,1])), reci.predict_proba((data[:,0], data[:,1]))]\n",
    "    \n",
    "np.sum(results > 0, axis = 0)/float(niter)"
   ]
  },
  {
   "cell_type": "markdown",
   "id": "4068650e-f3f7-4d6e-a0d6-83044db4a932",
   "metadata": {},
   "source": [
    "## Case 3, low noise, low correlation"
   ]
  },
  {
   "cell_type": "code",
   "execution_count": 12,
   "id": "d3117dc7-50f9-4b64-96e5-58ae988566ca",
   "metadata": {
    "tags": []
   },
   "outputs": [
    {
     "data": {
      "text/plain": [
       "array([1.   , 0.184, 1.   , 1.   ])"
      ]
     },
     "execution_count": 12,
     "metadata": {},
     "output_type": "execute_result"
    }
   ],
   "source": [
    "# Define a sample g function (quadratic)\n",
    "g = lambda x: np.power(x, 2)\n",
    "# Generate data\n",
    "n_samples = 1000\n",
    "# number of iterations\n",
    "niter = 250\n",
    "## error \n",
    "sd = 0.02\n",
    "## correlation\n",
    "r = 0.10\n",
    "\n",
    "results = np.zeros((niter, 4))\n",
    "\n",
    "for i in range(niter):\n",
    "    data = simulate_data(n_samples=n_samples, \n",
    "                     g_func=g,\n",
    "                     rho=r,  #  correlation between X and e\n",
    "                     s=sd,    #  error term\n",
    "                     seed=42 + i)   # For reproducibility\n",
    "    results[i] = [estimator(data)[0], anm.predict_proba((data[:,0], data[:,1])), cds.predict_proba((data[:,0], data[:,1])), reci.predict_proba((data[:,0], data[:,1]))]\n",
    "    \n",
    "np.sum(results > 0, axis = 0)/float(niter)"
   ]
  },
  {
   "cell_type": "markdown",
   "id": "75786308-89d1-47d3-8c9b-f493ba10b442",
   "metadata": {},
   "source": [
    "## Case 3, low noise, high correlation"
   ]
  },
  {
   "cell_type": "code",
   "execution_count": 13,
   "id": "e72027e7-de46-440b-add1-165332aebfce",
   "metadata": {
    "tags": []
   },
   "outputs": [
    {
     "data": {
      "text/plain": [
       "array([1. , 0.2, 1. , 1. ])"
      ]
     },
     "execution_count": 13,
     "metadata": {},
     "output_type": "execute_result"
    }
   ],
   "source": [
    "# Define a sample g function (quadratic)\n",
    "g = lambda x: np.power(x, 2)\n",
    "# Generate data\n",
    "n_samples = 1000\n",
    "# number of iterations\n",
    "niter = 250\n",
    "## error \n",
    "sd = 0.02\n",
    "## correlation\n",
    "r = 0.60\n",
    "\n",
    "results = np.zeros((niter, 4))\n",
    "\n",
    "for i in range(niter):\n",
    "    data = simulate_data(n_samples=n_samples, \n",
    "                     g_func=g,\n",
    "                     rho=r,  #  correlation between X and e\n",
    "                     s=sd,    #  error term\n",
    "                     seed=42 + i)   # For reproducibility\n",
    "    results[i] = [estimator(data)[0], anm.predict_proba((data[:,0], data[:,1])), cds.predict_proba((data[:,0], data[:,1])), reci.predict_proba((data[:,0], data[:,1]))]\n",
    "    \n",
    "np.sum(results > 0, axis = 0)/float(niter)"
   ]
  },
  {
   "cell_type": "markdown",
   "id": "73eedf55-af8b-4b23-b051-b588df6f3cb5",
   "metadata": {},
   "source": [
    "## Case 4, no noise"
   ]
  },
  {
   "cell_type": "code",
   "execution_count": 14,
   "id": "586ccf21-be93-452f-baf5-8b401f01bac6",
   "metadata": {
    "tags": []
   },
   "outputs": [
    {
     "data": {
      "text/plain": [
       "array([1.   , 0.196, 0.   , 1.   ])"
      ]
     },
     "execution_count": 14,
     "metadata": {},
     "output_type": "execute_result"
    }
   ],
   "source": [
    "# Define a sample g function (quadratic)\n",
    "g = lambda x: np.power(x, 3)\n",
    "# Generate data\n",
    "n_samples = 1000\n",
    "# number of iterations\n",
    "niter = 250\n",
    "## error \n",
    "sd = 0.0\n",
    "## correlation\n",
    "r = 0.0\n",
    "\n",
    "results = np.zeros((niter, 4))\n",
    "\n",
    "for i in range(niter):\n",
    "    data = simulate_data(n_samples=n_samples, \n",
    "                     g_func=g,\n",
    "                     rho=r,  #  correlation between X and e\n",
    "                     s=sd,    #  error term\n",
    "                     seed=42 + i)   # For reproducibility\n",
    "    results[i] = [estimator(data)[0], anm.predict_proba((data[:,0], data[:,1])), cds.predict_proba((data[:,0], data[:,1])), reci.predict_proba((data[:,0], data[:,1]))]\n",
    "    \n",
    "np.sum(results > 0, axis = 0)/float(niter)"
   ]
  },
  {
   "cell_type": "markdown",
   "id": "b85c308d-e9e1-4b18-9870-b60697b141ee",
   "metadata": {},
   "source": [
    "## Case 4, low noise, low correlation"
   ]
  },
  {
   "cell_type": "code",
   "execution_count": 15,
   "id": "dd60d437-f076-4650-82fa-ee6c8fe3f5c6",
   "metadata": {
    "tags": []
   },
   "outputs": [
    {
     "data": {
      "text/plain": [
       "array([1.   , 0.204, 0.016, 1.   ])"
      ]
     },
     "execution_count": 15,
     "metadata": {},
     "output_type": "execute_result"
    }
   ],
   "source": [
    "# Define a sample g function (quadratic)\n",
    "g = lambda x: np.power(x, 3)\n",
    "# Generate data\n",
    "n_samples = 1000\n",
    "# number of iterations\n",
    "niter = 250\n",
    "## error \n",
    "sd = 0.02\n",
    "## correlation\n",
    "r = 0.10\n",
    "\n",
    "results = np.zeros((niter, 4))\n",
    "\n",
    "for i in range(niter):\n",
    "    data = simulate_data(n_samples=n_samples, \n",
    "                     g_func=g,\n",
    "                     rho=r,  #  correlation between X and e\n",
    "                     s=sd,    #  error term\n",
    "                     seed=42 + i)   # For reproducibility\n",
    "    results[i] = [estimator(data)[0], anm.predict_proba((data[:,0], data[:,1])), cds.predict_proba((data[:,0], data[:,1])), reci.predict_proba((data[:,0], data[:,1]))]\n",
    "    \n",
    "np.sum(results > 0, axis = 0)/float(niter)"
   ]
  },
  {
   "cell_type": "markdown",
   "id": "05c0d12b-592a-491c-9266-51873845c17f",
   "metadata": {},
   "source": [
    "## Case 4, low noise, low correlation"
   ]
  },
  {
   "cell_type": "code",
   "execution_count": 16,
   "id": "8434e532-fd12-498e-a28a-a140f28fcfd8",
   "metadata": {
    "tags": []
   },
   "outputs": [
    {
     "data": {
      "text/plain": [
       "array([1.  , 0.18, 0.  , 1.  ])"
      ]
     },
     "execution_count": 16,
     "metadata": {},
     "output_type": "execute_result"
    }
   ],
   "source": [
    "# Define a sample g function (quadratic)\n",
    "g = lambda x: np.power(x, 3)\n",
    "# Generate data\n",
    "n_samples = 1000\n",
    "# number of iterations\n",
    "niter = 250\n",
    "## error \n",
    "sd = 0.02\n",
    "## correlation\n",
    "r = 0.60\n",
    "\n",
    "results = np.zeros((niter, 4))\n",
    "\n",
    "for i in range(niter):\n",
    "    data = simulate_data(n_samples=n_samples, \n",
    "                     g_func=g,\n",
    "                     rho=r,  #  correlation between X and e\n",
    "                     s=sd,    #  error term\n",
    "                     seed=42 + i)   # For reproducibility\n",
    "    results[i] = [estimator(data)[0], anm.predict_proba((data[:,0], data[:,1])), cds.predict_proba((data[:,0], data[:,1])), reci.predict_proba((data[:,0], data[:,1]))]\n",
    "    \n",
    "np.sum(results > 0, axis = 0)/float(niter)"
   ]
  },
  {
   "cell_type": "markdown",
   "id": "075005ea-f017-4b30-942e-586021f43bc5",
   "metadata": {},
   "source": [
    "## Case 5, no noise"
   ]
  },
  {
   "cell_type": "code",
   "execution_count": 17,
   "id": "c3a74efd-2c1b-4360-b214-cecc779fb188",
   "metadata": {
    "tags": []
   },
   "outputs": [
    {
     "data": {
      "text/plain": [
       "array([1.   , 0.216, 0.   , 1.   ])"
      ]
     },
     "execution_count": 17,
     "metadata": {},
     "output_type": "execute_result"
    }
   ],
   "source": [
    "# Define a sample g function (quadratic)\n",
    "g = lambda x: np.exp(x)\n",
    "# Generate data\n",
    "n_samples = 1000\n",
    "# number of iterations\n",
    "niter = 250\n",
    "## error \n",
    "sd = 0.0\n",
    "## correlation\n",
    "r = 0.0\n",
    "\n",
    "results = np.zeros((niter, 4))\n",
    "\n",
    "for i in range(niter):\n",
    "    data = simulate_data(n_samples=n_samples, \n",
    "                     g_func=g,\n",
    "                     rho=r,  #  correlation between X and e\n",
    "                     s=sd,    #  error term\n",
    "                     seed=42 + i)   # For reproducibility\n",
    "    results[i] = [estimator(data)[0], anm.predict_proba((data[:,0], data[:,1])), cds.predict_proba((data[:,0], data[:,1])), reci.predict_proba((data[:,0], data[:,1]))]\n",
    "    \n",
    "np.sum(results > 0, axis = 0)/float(niter)"
   ]
  },
  {
   "cell_type": "markdown",
   "id": "d0b1b4e6-9556-42d5-8f11-f69e71390d41",
   "metadata": {},
   "source": [
    "## Case 5, low noise, low correlation"
   ]
  },
  {
   "cell_type": "code",
   "execution_count": 18,
   "id": "89dc5573-ff97-4548-b52b-258e8d71af04",
   "metadata": {
    "tags": []
   },
   "outputs": [
    {
     "data": {
      "text/plain": [
       "array([0.996, 0.204, 0.436, 1.   ])"
      ]
     },
     "execution_count": 18,
     "metadata": {},
     "output_type": "execute_result"
    }
   ],
   "source": [
    "# Define a sample g function (quadratic)\n",
    "g = lambda x: np.exp(x)\n",
    "# Generate data\n",
    "n_samples = 1000\n",
    "# number of iterations\n",
    "niter = 250\n",
    "## error \n",
    "sd = 0.02\n",
    "## correlation\n",
    "r = 0.10\n",
    "\n",
    "results = np.zeros((niter, 4))\n",
    "\n",
    "for i in range(niter):\n",
    "    data = simulate_data(n_samples=n_samples, \n",
    "                     g_func=g,\n",
    "                     rho=r,  #  correlation between X and e\n",
    "                     s=sd,    #  error term\n",
    "                     seed=42 + i)   # For reproducibility\n",
    "    results[i] = [estimator(data)[0], anm.predict_proba((data[:,0], data[:,1])), cds.predict_proba((data[:,0], data[:,1])), reci.predict_proba((data[:,0], data[:,1]))]\n",
    "    \n",
    "np.sum(results > 0, axis = 0)/float(niter)"
   ]
  },
  {
   "cell_type": "markdown",
   "id": "3c77aab9-a784-4140-820a-14467635fbf8",
   "metadata": {},
   "source": [
    "## Case 5, low noise, high correlation"
   ]
  },
  {
   "cell_type": "code",
   "execution_count": 19,
   "id": "050dd5cd-f07d-41d9-bbda-34fb738dc40b",
   "metadata": {
    "tags": []
   },
   "outputs": [
    {
     "data": {
      "text/plain": [
       "array([0.976, 0.212, 0.052, 1.   ])"
      ]
     },
     "execution_count": 19,
     "metadata": {},
     "output_type": "execute_result"
    }
   ],
   "source": [
    "# Define a sample g function (quadratic)\n",
    "g = lambda x: np.exp(x)\n",
    "# Generate data\n",
    "n_samples = 1000\n",
    "# number of iterations\n",
    "niter = 250\n",
    "## error \n",
    "sd = 0.02\n",
    "## correlation\n",
    "r = 0.60\n",
    "\n",
    "results = np.zeros((niter, 4))\n",
    "\n",
    "for i in range(niter):\n",
    "    data = simulate_data(n_samples=n_samples, \n",
    "                     g_func=g,\n",
    "                     rho=r,  #  correlation between X and e\n",
    "                     s=sd,    #  error term\n",
    "                     seed=42 + i)   # For reproducibility\n",
    "    results[i] = [estimator(data)[0], anm.predict_proba((data[:,0], data[:,1])), cds.predict_proba((data[:,0], data[:,1])), reci.predict_proba((data[:,0], data[:,1]))]\n",
    "    \n",
    "np.sum(results > 0, axis = 0)/float(niter)"
   ]
  },
  {
   "cell_type": "markdown",
   "id": "e88d99d1-9d15-4a40-add9-48713fd932d8",
   "metadata": {},
   "source": [
    "## Case 6, no noise"
   ]
  },
  {
   "cell_type": "code",
   "execution_count": 23,
   "id": "3c95346c-0dd9-4fc5-9825-9b5150423870",
   "metadata": {
    "tags": []
   },
   "outputs": [
    {
     "data": {
      "text/plain": [
       "array([1.   , 0.244, 1.   , 0.   ])"
      ]
     },
     "execution_count": 23,
     "metadata": {},
     "output_type": "execute_result"
    }
   ],
   "source": [
    "# Define a sample g function (quadratic)\n",
    "g = lambda x: np.sin(11*x/7)\n",
    "# Generate data\n",
    "n_samples = 1000\n",
    "# number of iterations\n",
    "niter = 250\n",
    "## error \n",
    "sd = 0.0\n",
    "## correlation\n",
    "r = 0.0\n",
    "\n",
    "results = np.zeros((niter, 4))\n",
    "\n",
    "for i in range(niter):\n",
    "    data = simulate_data(n_samples=n_samples, \n",
    "                     g_func=g,\n",
    "                     rho=r,  #  correlation between X and e\n",
    "                     s=sd,    #  error term\n",
    "                     seed=42 + i)   # For reproducibility\n",
    "    results[i] = [estimator(data)[0], anm.predict_proba((data[:,0], data[:,1])), cds.predict_proba((data[:,0], data[:,1])), reci.predict_proba((data[:,0], data[:,1]))]\n",
    "    \n",
    "np.sum(results > 0, axis = 0)/float(niter)"
   ]
  },
  {
   "cell_type": "markdown",
   "id": "fac12fd8-a631-46a7-b0ca-4da98ab3c498",
   "metadata": {},
   "source": [
    "## Case 6, low noise, low correlation"
   ]
  },
  {
   "cell_type": "code",
   "execution_count": 24,
   "id": "d9058814-d79c-44b7-b47e-652f817bc4b2",
   "metadata": {
    "tags": []
   },
   "outputs": [
    {
     "data": {
      "text/plain": [
       "array([1.  , 0.26, 1.  , 0.  ])"
      ]
     },
     "execution_count": 24,
     "metadata": {},
     "output_type": "execute_result"
    }
   ],
   "source": [
    "# Define a sample g function (quadratic)\n",
    "g = lambda x: np.sin(11*x/7)\n",
    "# Generate data\n",
    "n_samples = 1000\n",
    "# number of iterations\n",
    "niter = 250\n",
    "## error \n",
    "sd = 0.02\n",
    "## correlation\n",
    "r = 0.10\n",
    "\n",
    "results = np.zeros((niter, 4))\n",
    "\n",
    "for i in range(niter):\n",
    "    data = simulate_data(n_samples=n_samples, \n",
    "                     g_func=g,\n",
    "                     rho=r,  #  correlation between X and e\n",
    "                     s=sd,    #  error term\n",
    "                     seed=42 + i)   # For reproducibility\n",
    "    results[i] = [estimator(data)[0], anm.predict_proba((data[:,0], data[:,1])), cds.predict_proba((data[:,0], data[:,1])), reci.predict_proba((data[:,0], data[:,1]))]\n",
    "    \n",
    "np.sum(results > 0, axis = 0)/float(niter)"
   ]
  },
  {
   "cell_type": "markdown",
   "id": "0bab1947-5984-4c37-aeb4-a40f4d9ffc18",
   "metadata": {},
   "source": [
    "## Case 6, low noise, high correlation"
   ]
  },
  {
   "cell_type": "code",
   "execution_count": 25,
   "id": "77761a9d-f68d-4aec-95b3-28ee078785fe",
   "metadata": {
    "tags": []
   },
   "outputs": [
    {
     "data": {
      "text/plain": [
       "array([1.   , 0.264, 1.   , 0.   ])"
      ]
     },
     "execution_count": 25,
     "metadata": {},
     "output_type": "execute_result"
    }
   ],
   "source": [
    "# Define a sample g function (quadratic)\n",
    "g = lambda x: np.sin(11*x/7)\n",
    "# Generate data\n",
    "n_samples = 1000\n",
    "# number of iterations\n",
    "niter = 250\n",
    "## error \n",
    "sd = 0.02\n",
    "## correlation\n",
    "r = 0.60\n",
    "\n",
    "results = np.zeros((niter, 4))\n",
    "\n",
    "for i in range(niter):\n",
    "    data = simulate_data(n_samples=n_samples, \n",
    "                     g_func=g,\n",
    "                     rho=r,  #  correlation between X and e\n",
    "                     s=sd,    #  error term\n",
    "                     seed=42 + i)   # For reproducibility\n",
    "    results[i] = [estimator(data)[0], anm.predict_proba((data[:,0], data[:,1])), cds.predict_proba((data[:,0], data[:,1])), reci.predict_proba((data[:,0], data[:,1]))]\n",
    "    \n",
    "np.sum(results > 0, axis = 0)/float(niter)"
   ]
  },
  {
   "cell_type": "code",
   "execution_count": null,
   "id": "8cd3a9b0-ed49-49b4-a757-f1175c673135",
   "metadata": {},
   "outputs": [],
   "source": []
  }
 ],
 "metadata": {
  "kernelspec": {
   "display_name": "Python 3 (ipykernel)",
   "language": "python",
   "name": "python3"
  },
  "language_info": {
   "codemirror_mode": {
    "name": "ipython",
    "version": 3
   },
   "file_extension": ".py",
   "mimetype": "text/x-python",
   "name": "python",
   "nbconvert_exporter": "python",
   "pygments_lexer": "ipython3",
   "version": "3.11.5"
  }
 },
 "nbformat": 4,
 "nbformat_minor": 5
}
